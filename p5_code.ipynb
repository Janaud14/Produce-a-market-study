{
 "cells": [
  {
   "cell_type": "code",
   "execution_count": 181,
   "id": "d60a700b",
   "metadata": {},
   "outputs": [],
   "source": [
    "import numpy as np\n",
    "import pandas as pd\n",
    "import matplotlib.pyplot as plt\n",
    "from sklearn.datasets import make_blobs "
   ]
  },
  {
   "cell_type": "code",
   "execution_count": 182,
   "id": "a929f3b8",
   "metadata": {},
   "outputs": [],
   "source": [
    "#link\n",
    "link = 'C:/Users/Jean Lavital/Desktop/P5_lavital_jean/'"
   ]
  },
  {
   "cell_type": "code",
   "execution_count": 183,
   "id": "a2143603",
   "metadata": {},
   "outputs": [],
   "source": [
    "#import des données \n",
    "df_population2021 = pd.read_csv(link + 'df_population2021.csv')"
   ]
  },
  {
   "cell_type": "code",
   "execution_count": 184,
   "id": "1d4eb861",
   "metadata": {},
   "outputs": [],
   "source": [
    "#import des données \n",
    "df_population2019 = pd.read_csv(link + 'df_population2019.csv')"
   ]
  },
  {
   "cell_type": "code",
   "execution_count": 185,
   "id": "286ce3fc",
   "metadata": {},
   "outputs": [],
   "source": [
    "#import des données \n",
    "df_animaux2019 = pd.read_csv(link + 'df_animaux2019.csv')"
   ]
  },
  {
   "cell_type": "code",
   "execution_count": 186,
   "id": "dfe890c0",
   "metadata": {},
   "outputs": [],
   "source": [
    "#import des données\n",
    "df_vegetaux2019 = pd.read_csv(link + 'df_vegetaux2019.csv')"
   ]
  },
  {
   "cell_type": "code",
   "execution_count": 187,
   "id": "0babefa3",
   "metadata": {},
   "outputs": [],
   "source": [
    "#import des données\n",
    "df_volaille2020 = pd.read_csv(link + 'df_volaille2020.csv')"
   ]
  },
  {
   "cell_type": "code",
   "execution_count": 188,
   "id": "08cec1bf",
   "metadata": {},
   "outputs": [],
   "source": [
    "df_volaille2020 = df_volaille2020[['Zone','Valeur']]"
   ]
  },
  {
   "cell_type": "code",
   "execution_count": 189,
   "id": "626b1d02",
   "metadata": {},
   "outputs": [],
   "source": [
    "df_volaille2020['Valeur']=df_volaille2020['Valeur']*1000"
   ]
  },
  {
   "cell_type": "code",
   "execution_count": 190,
   "id": "13b314a0",
   "metadata": {},
   "outputs": [],
   "source": [
    "indexNames1 = df_volaille2020[df_volaille2020['Zone'] == 'Chine, continentale'].index"
   ]
  },
  {
   "cell_type": "code",
   "execution_count": 191,
   "id": "fe08174d",
   "metadata": {},
   "outputs": [
    {
     "data": {
      "text/plain": [
       "Int64Index([38], dtype='int64')"
      ]
     },
     "execution_count": 191,
     "metadata": {},
     "output_type": "execute_result"
    }
   ],
   "source": [
    "indexNames1"
   ]
  },
  {
   "cell_type": "code",
   "execution_count": 192,
   "id": "bac012a4",
   "metadata": {},
   "outputs": [],
   "source": [
    "df_volaille2020.drop(indexNames1 , inplace=True)"
   ]
  },
  {
   "cell_type": "code",
   "execution_count": 193,
   "id": "088b2d30",
   "metadata": {},
   "outputs": [],
   "source": [
    "df_volaille2020.rename(columns={'Valeur':'prod_volaille'}, inplace=True)"
   ]
  },
  {
   "cell_type": "code",
   "execution_count": 307,
   "id": "d314e954",
   "metadata": {},
   "outputs": [
    {
     "data": {
      "text/html": [
       "<div>\n",
       "<style scoped>\n",
       "    .dataframe tbody tr th:only-of-type {\n",
       "        vertical-align: middle;\n",
       "    }\n",
       "\n",
       "    .dataframe tbody tr th {\n",
       "        vertical-align: top;\n",
       "    }\n",
       "\n",
       "    .dataframe thead th {\n",
       "        text-align: right;\n",
       "    }\n",
       "</style>\n",
       "<table border=\"1\" class=\"dataframe\">\n",
       "  <thead>\n",
       "    <tr style=\"text-align: right;\">\n",
       "      <th></th>\n",
       "      <th>Zone</th>\n",
       "      <th>prod_volaille</th>\n",
       "    </tr>\n",
       "  </thead>\n",
       "  <tbody>\n",
       "    <tr>\n",
       "      <th>0</th>\n",
       "      <td>Afghanistan</td>\n",
       "      <td>27938000</td>\n",
       "    </tr>\n",
       "    <tr>\n",
       "      <th>1</th>\n",
       "      <td>Afrique du Sud</td>\n",
       "      <td>1873238000</td>\n",
       "    </tr>\n",
       "    <tr>\n",
       "      <th>2</th>\n",
       "      <td>Albanie</td>\n",
       "      <td>12234000</td>\n",
       "    </tr>\n",
       "    <tr>\n",
       "      <th>3</th>\n",
       "      <td>Algérie</td>\n",
       "      <td>260269000</td>\n",
       "    </tr>\n",
       "    <tr>\n",
       "      <th>4</th>\n",
       "      <td>Allemagne</td>\n",
       "      <td>1066000000</td>\n",
       "    </tr>\n",
       "    <tr>\n",
       "      <th>...</th>\n",
       "      <td>...</td>\n",
       "      <td>...</td>\n",
       "    </tr>\n",
       "    <tr>\n",
       "      <th>189</th>\n",
       "      <td>Venezuela (République bolivarienne du)</td>\n",
       "      <td>406074000</td>\n",
       "    </tr>\n",
       "    <tr>\n",
       "      <th>190</th>\n",
       "      <td>Viet Nam</td>\n",
       "      <td>1146318000</td>\n",
       "    </tr>\n",
       "    <tr>\n",
       "      <th>191</th>\n",
       "      <td>Yémen</td>\n",
       "      <td>194546000</td>\n",
       "    </tr>\n",
       "    <tr>\n",
       "      <th>192</th>\n",
       "      <td>Zambie</td>\n",
       "      <td>51573000</td>\n",
       "    </tr>\n",
       "    <tr>\n",
       "      <th>193</th>\n",
       "      <td>Zimbabwe</td>\n",
       "      <td>67211000</td>\n",
       "    </tr>\n",
       "  </tbody>\n",
       "</table>\n",
       "<p>193 rows × 2 columns</p>\n",
       "</div>"
      ],
      "text/plain": [
       "                                       Zone  prod_volaille\n",
       "0                               Afghanistan       27938000\n",
       "1                            Afrique du Sud     1873238000\n",
       "2                                   Albanie       12234000\n",
       "3                                   Algérie      260269000\n",
       "4                                 Allemagne     1066000000\n",
       "..                                      ...            ...\n",
       "189  Venezuela (République bolivarienne du)      406074000\n",
       "190                                Viet Nam     1146318000\n",
       "191                                   Yémen      194546000\n",
       "192                                  Zambie       51573000\n",
       "193                                Zimbabwe       67211000\n",
       "\n",
       "[193 rows x 2 columns]"
      ]
     },
     "execution_count": 307,
     "metadata": {},
     "output_type": "execute_result"
    }
   ],
   "source": [
    "df_volaille2020"
   ]
  },
  {
   "cell_type": "markdown",
   "id": "e88c2557",
   "metadata": {},
   "source": [
    "# Echantillon de la Population"
   ]
  },
  {
   "cell_type": "code",
   "execution_count": 194,
   "id": "528b15fb",
   "metadata": {},
   "outputs": [],
   "source": [
    "df_population2021=df_population2021[['Zone','Année','Valeur']]"
   ]
  },
  {
   "cell_type": "code",
   "execution_count": 195,
   "id": "86595e0c",
   "metadata": {},
   "outputs": [],
   "source": [
    "df_population2019=df_population2019[['Zone','Année','Valeur']]"
   ]
  },
  {
   "cell_type": "code",
   "execution_count": 196,
   "id": "800fa430",
   "metadata": {},
   "outputs": [],
   "source": [
    "# renommage de la colonne Valeur et Année\n",
    "df_population2021.rename(columns={'Valeur':'nb_population', 'Année':'Annee'}, inplace=True)"
   ]
  },
  {
   "cell_type": "code",
   "execution_count": 197,
   "id": "78cf95a1",
   "metadata": {},
   "outputs": [],
   "source": [
    "# renommage de la colonne Valeur et Année\n",
    "df_population2019.rename(columns={'Valeur':'nb_population', 'Année':'Annee'}, inplace=True)"
   ]
  },
  {
   "cell_type": "code",
   "execution_count": 198,
   "id": "75698aa4",
   "metadata": {},
   "outputs": [],
   "source": [
    "df_population2019['nb_population'] *= 1000"
   ]
  },
  {
   "cell_type": "code",
   "execution_count": 199,
   "id": "ffaa529e",
   "metadata": {},
   "outputs": [
    {
     "data": {
      "text/html": [
       "<div>\n",
       "<style scoped>\n",
       "    .dataframe tbody tr th:only-of-type {\n",
       "        vertical-align: middle;\n",
       "    }\n",
       "\n",
       "    .dataframe tbody tr th {\n",
       "        vertical-align: top;\n",
       "    }\n",
       "\n",
       "    .dataframe thead th {\n",
       "        text-align: right;\n",
       "    }\n",
       "</style>\n",
       "<table border=\"1\" class=\"dataframe\">\n",
       "  <thead>\n",
       "    <tr style=\"text-align: right;\">\n",
       "      <th></th>\n",
       "      <th>Zone</th>\n",
       "      <th>Annee</th>\n",
       "      <th>nb_population</th>\n",
       "    </tr>\n",
       "  </thead>\n",
       "  <tbody>\n",
       "    <tr>\n",
       "      <th>0</th>\n",
       "      <td>Afghanistan</td>\n",
       "      <td>2019</td>\n",
       "      <td>38042000</td>\n",
       "    </tr>\n",
       "    <tr>\n",
       "      <th>1</th>\n",
       "      <td>Afrique du Sud</td>\n",
       "      <td>2019</td>\n",
       "      <td>58558000</td>\n",
       "    </tr>\n",
       "    <tr>\n",
       "      <th>2</th>\n",
       "      <td>Albanie</td>\n",
       "      <td>2019</td>\n",
       "      <td>2881000</td>\n",
       "    </tr>\n",
       "    <tr>\n",
       "      <th>3</th>\n",
       "      <td>Algérie</td>\n",
       "      <td>2019</td>\n",
       "      <td>43053000</td>\n",
       "    </tr>\n",
       "    <tr>\n",
       "      <th>4</th>\n",
       "      <td>Allemagne</td>\n",
       "      <td>2019</td>\n",
       "      <td>83517000</td>\n",
       "    </tr>\n",
       "    <tr>\n",
       "      <th>...</th>\n",
       "      <td>...</td>\n",
       "      <td>...</td>\n",
       "      <td>...</td>\n",
       "    </tr>\n",
       "    <tr>\n",
       "      <th>174</th>\n",
       "      <td>Venezuela (République bolivarienne du)</td>\n",
       "      <td>2019</td>\n",
       "      <td>28516000</td>\n",
       "    </tr>\n",
       "    <tr>\n",
       "      <th>175</th>\n",
       "      <td>Viet Nam</td>\n",
       "      <td>2019</td>\n",
       "      <td>96462000</td>\n",
       "    </tr>\n",
       "    <tr>\n",
       "      <th>176</th>\n",
       "      <td>Yémen</td>\n",
       "      <td>2019</td>\n",
       "      <td>29162000</td>\n",
       "    </tr>\n",
       "    <tr>\n",
       "      <th>177</th>\n",
       "      <td>Zambie</td>\n",
       "      <td>2019</td>\n",
       "      <td>17861000</td>\n",
       "    </tr>\n",
       "    <tr>\n",
       "      <th>178</th>\n",
       "      <td>Zimbabwe</td>\n",
       "      <td>2019</td>\n",
       "      <td>14645000</td>\n",
       "    </tr>\n",
       "  </tbody>\n",
       "</table>\n",
       "<p>179 rows × 3 columns</p>\n",
       "</div>"
      ],
      "text/plain": [
       "                                       Zone  Annee  nb_population\n",
       "0                               Afghanistan   2019       38042000\n",
       "1                            Afrique du Sud   2019       58558000\n",
       "2                                   Albanie   2019        2881000\n",
       "3                                   Algérie   2019       43053000\n",
       "4                                 Allemagne   2019       83517000\n",
       "..                                      ...    ...            ...\n",
       "174  Venezuela (République bolivarienne du)   2019       28516000\n",
       "175                                Viet Nam   2019       96462000\n",
       "176                                   Yémen   2019       29162000\n",
       "177                                  Zambie   2019       17861000\n",
       "178                                Zimbabwe   2019       14645000\n",
       "\n",
       "[179 rows x 3 columns]"
      ]
     },
     "execution_count": 199,
     "metadata": {},
     "output_type": "execute_result"
    }
   ],
   "source": [
    "df_population2019"
   ]
  },
  {
   "cell_type": "code",
   "execution_count": 200,
   "id": "acbc2b6f",
   "metadata": {},
   "outputs": [],
   "source": [
    "df_population2021['nb_population'] *= 1000"
   ]
  },
  {
   "cell_type": "code",
   "execution_count": 201,
   "id": "54093cd2",
   "metadata": {},
   "outputs": [],
   "source": [
    "df_population = pd.concat([df_population2021, df_population2019])"
   ]
  },
  {
   "cell_type": "code",
   "execution_count": 202,
   "id": "6bfef67a",
   "metadata": {},
   "outputs": [
    {
     "data": {
      "text/html": [
       "<div>\n",
       "<style scoped>\n",
       "    .dataframe tbody tr th:only-of-type {\n",
       "        vertical-align: middle;\n",
       "    }\n",
       "\n",
       "    .dataframe tbody tr th {\n",
       "        vertical-align: top;\n",
       "    }\n",
       "\n",
       "    .dataframe thead th {\n",
       "        text-align: right;\n",
       "    }\n",
       "</style>\n",
       "<table border=\"1\" class=\"dataframe\">\n",
       "  <thead>\n",
       "    <tr style=\"text-align: right;\">\n",
       "      <th></th>\n",
       "      <th>Zone</th>\n",
       "      <th>Annee</th>\n",
       "      <th>nb_population</th>\n",
       "    </tr>\n",
       "  </thead>\n",
       "  <tbody>\n",
       "    <tr>\n",
       "      <th>0</th>\n",
       "      <td>Afghanistan</td>\n",
       "      <td>2021</td>\n",
       "      <td>39835428.0</td>\n",
       "    </tr>\n",
       "    <tr>\n",
       "      <th>1</th>\n",
       "      <td>Afrique du Sud</td>\n",
       "      <td>2021</td>\n",
       "      <td>60041994.0</td>\n",
       "    </tr>\n",
       "    <tr>\n",
       "      <th>2</th>\n",
       "      <td>Albanie</td>\n",
       "      <td>2021</td>\n",
       "      <td>2872933.0</td>\n",
       "    </tr>\n",
       "    <tr>\n",
       "      <th>3</th>\n",
       "      <td>Algérie</td>\n",
       "      <td>2021</td>\n",
       "      <td>44616624.0</td>\n",
       "    </tr>\n",
       "    <tr>\n",
       "      <th>4</th>\n",
       "      <td>Allemagne</td>\n",
       "      <td>2021</td>\n",
       "      <td>83900473.0</td>\n",
       "    </tr>\n",
       "  </tbody>\n",
       "</table>\n",
       "</div>"
      ],
      "text/plain": [
       "             Zone  Annee  nb_population\n",
       "0     Afghanistan   2021     39835428.0\n",
       "1  Afrique du Sud   2021     60041994.0\n",
       "2         Albanie   2021      2872933.0\n",
       "3         Algérie   2021     44616624.0\n",
       "4       Allemagne   2021     83900473.0"
      ]
     },
     "execution_count": 202,
     "metadata": {},
     "output_type": "execute_result"
    }
   ],
   "source": [
    "df_population.head()"
   ]
  },
  {
   "cell_type": "code",
   "execution_count": 203,
   "id": "a4b37156",
   "metadata": {},
   "outputs": [
    {
     "data": {
      "text/plain": [
       "2021    237\n",
       "2019    179\n",
       "Name: Annee, dtype: int64"
      ]
     },
     "execution_count": 203,
     "metadata": {},
     "output_type": "execute_result"
    }
   ],
   "source": [
    "df_population.Annee.value_counts()"
   ]
  },
  {
   "cell_type": "code",
   "execution_count": 204,
   "id": "f2df0eb2",
   "metadata": {},
   "outputs": [],
   "source": [
    "df_pop = df_population.pivot(values='nb_population',index='Zone',columns='Annee')"
   ]
  },
  {
   "cell_type": "code",
   "execution_count": 205,
   "id": "f778ea6f",
   "metadata": {},
   "outputs": [],
   "source": [
    "df_pop['diff_pop2019']=df_pop.apply(lambda x:round((x[2021]-x[2019])*100/x[2019],2), axis=1)"
   ]
  },
  {
   "cell_type": "code",
   "execution_count": 206,
   "id": "069cf859",
   "metadata": {},
   "outputs": [
    {
     "data": {
      "text/html": [
       "<div>\n",
       "<style scoped>\n",
       "    .dataframe tbody tr th:only-of-type {\n",
       "        vertical-align: middle;\n",
       "    }\n",
       "\n",
       "    .dataframe tbody tr th {\n",
       "        vertical-align: top;\n",
       "    }\n",
       "\n",
       "    .dataframe thead th {\n",
       "        text-align: right;\n",
       "    }\n",
       "</style>\n",
       "<table border=\"1\" class=\"dataframe\">\n",
       "  <thead>\n",
       "    <tr style=\"text-align: right;\">\n",
       "      <th>Annee</th>\n",
       "      <th>2019</th>\n",
       "      <th>2021</th>\n",
       "      <th>diff_pop2019</th>\n",
       "    </tr>\n",
       "    <tr>\n",
       "      <th>Zone</th>\n",
       "      <th></th>\n",
       "      <th></th>\n",
       "      <th></th>\n",
       "    </tr>\n",
       "  </thead>\n",
       "  <tbody>\n",
       "    <tr>\n",
       "      <th>Afghanistan</th>\n",
       "      <td>38042000.0</td>\n",
       "      <td>39835428.0</td>\n",
       "      <td>4.71</td>\n",
       "    </tr>\n",
       "    <tr>\n",
       "      <th>Afrique du Sud</th>\n",
       "      <td>58558000.0</td>\n",
       "      <td>60041994.0</td>\n",
       "      <td>2.53</td>\n",
       "    </tr>\n",
       "    <tr>\n",
       "      <th>Albanie</th>\n",
       "      <td>2881000.0</td>\n",
       "      <td>2872933.0</td>\n",
       "      <td>-0.28</td>\n",
       "    </tr>\n",
       "    <tr>\n",
       "      <th>Algérie</th>\n",
       "      <td>43053000.0</td>\n",
       "      <td>44616624.0</td>\n",
       "      <td>3.63</td>\n",
       "    </tr>\n",
       "    <tr>\n",
       "      <th>Allemagne</th>\n",
       "      <td>83517000.0</td>\n",
       "      <td>83900473.0</td>\n",
       "      <td>0.46</td>\n",
       "    </tr>\n",
       "  </tbody>\n",
       "</table>\n",
       "</div>"
      ],
      "text/plain": [
       "Annee                 2019        2021  diff_pop2019\n",
       "Zone                                                \n",
       "Afghanistan     38042000.0  39835428.0          4.71\n",
       "Afrique du Sud  58558000.0  60041994.0          2.53\n",
       "Albanie          2881000.0   2872933.0         -0.28\n",
       "Algérie         43053000.0  44616624.0          3.63\n",
       "Allemagne       83517000.0  83900473.0          0.46"
      ]
     },
     "execution_count": 206,
     "metadata": {},
     "output_type": "execute_result"
    }
   ],
   "source": [
    "df_pop.head()"
   ]
  },
  {
   "cell_type": "code",
   "execution_count": 207,
   "id": "a08da283",
   "metadata": {},
   "outputs": [
    {
     "data": {
      "text/html": [
       "<div>\n",
       "<style scoped>\n",
       "    .dataframe tbody tr th:only-of-type {\n",
       "        vertical-align: middle;\n",
       "    }\n",
       "\n",
       "    .dataframe tbody tr th {\n",
       "        vertical-align: top;\n",
       "    }\n",
       "\n",
       "    .dataframe thead th {\n",
       "        text-align: right;\n",
       "    }\n",
       "</style>\n",
       "<table border=\"1\" class=\"dataframe\">\n",
       "  <thead>\n",
       "    <tr style=\"text-align: right;\">\n",
       "      <th>Annee</th>\n",
       "      <th>Zone</th>\n",
       "      <th>2019</th>\n",
       "      <th>2021</th>\n",
       "      <th>diff_pop2019</th>\n",
       "    </tr>\n",
       "  </thead>\n",
       "  <tbody>\n",
       "    <tr>\n",
       "      <th>88</th>\n",
       "      <td>Iraq</td>\n",
       "      <td>33717000.0</td>\n",
       "      <td>41179350.0</td>\n",
       "      <td>22.13</td>\n",
       "    </tr>\n",
       "  </tbody>\n",
       "</table>\n",
       "</div>"
      ],
      "text/plain": [
       "Annee  Zone        2019        2021  diff_pop2019\n",
       "88     Iraq  33717000.0  41179350.0         22.13"
      ]
     },
     "execution_count": 207,
     "metadata": {},
     "output_type": "execute_result"
    }
   ],
   "source": [
    "df_pop.reset_index()[df_pop.reset_index()['Zone']=='Iraq']"
   ]
  },
  {
   "cell_type": "code",
   "execution_count": 208,
   "id": "f42cab11",
   "metadata": {},
   "outputs": [],
   "source": [
    "df_pop1=df_pop.reset_index()[['Zone','diff_pop2019']]"
   ]
  },
  {
   "cell_type": "code",
   "execution_count": 209,
   "id": "b1fcf242",
   "metadata": {},
   "outputs": [
    {
     "data": {
      "text/html": [
       "<div>\n",
       "<style scoped>\n",
       "    .dataframe tbody tr th:only-of-type {\n",
       "        vertical-align: middle;\n",
       "    }\n",
       "\n",
       "    .dataframe tbody tr th {\n",
       "        vertical-align: top;\n",
       "    }\n",
       "\n",
       "    .dataframe thead th {\n",
       "        text-align: right;\n",
       "    }\n",
       "</style>\n",
       "<table border=\"1\" class=\"dataframe\">\n",
       "  <thead>\n",
       "    <tr style=\"text-align: right;\">\n",
       "      <th>Annee</th>\n",
       "      <th>Zone</th>\n",
       "      <th>diff_pop2019</th>\n",
       "    </tr>\n",
       "  </thead>\n",
       "  <tbody>\n",
       "    <tr>\n",
       "      <th>0</th>\n",
       "      <td>Afghanistan</td>\n",
       "      <td>4.71</td>\n",
       "    </tr>\n",
       "    <tr>\n",
       "      <th>1</th>\n",
       "      <td>Afrique du Sud</td>\n",
       "      <td>2.53</td>\n",
       "    </tr>\n",
       "    <tr>\n",
       "      <th>2</th>\n",
       "      <td>Albanie</td>\n",
       "      <td>-0.28</td>\n",
       "    </tr>\n",
       "    <tr>\n",
       "      <th>3</th>\n",
       "      <td>Algérie</td>\n",
       "      <td>3.63</td>\n",
       "    </tr>\n",
       "    <tr>\n",
       "      <th>4</th>\n",
       "      <td>Allemagne</td>\n",
       "      <td>0.46</td>\n",
       "    </tr>\n",
       "  </tbody>\n",
       "</table>\n",
       "</div>"
      ],
      "text/plain": [
       "Annee            Zone  diff_pop2019\n",
       "0         Afghanistan          4.71\n",
       "1      Afrique du Sud          2.53\n",
       "2             Albanie         -0.28\n",
       "3             Algérie          3.63\n",
       "4           Allemagne          0.46"
      ]
     },
     "execution_count": 209,
     "metadata": {},
     "output_type": "execute_result"
    }
   ],
   "source": [
    "df_pop1.head()"
   ]
  },
  {
   "cell_type": "markdown",
   "id": "e13123e3",
   "metadata": {},
   "source": [
    "# Echantillon pour les autres variables"
   ]
  },
  {
   "cell_type": "code",
   "execution_count": 210,
   "id": "ea85f5d9",
   "metadata": {},
   "outputs": [],
   "source": [
    "#ajout de la variable origine\n",
    "df_vegetaux2019[\"origine\"]=\"vegetale\""
   ]
  },
  {
   "cell_type": "code",
   "execution_count": 211,
   "id": "75dbfc1e",
   "metadata": {},
   "outputs": [],
   "source": [
    "#ajout de la variable origine\n",
    "df_animaux2019[\"origine\"]=\"animale\""
   ]
  },
  {
   "cell_type": "code",
   "execution_count": 212,
   "id": "3ba38b5c",
   "metadata": {},
   "outputs": [
    {
     "data": {
      "text/html": [
       "<div>\n",
       "<style scoped>\n",
       "    .dataframe tbody tr th:only-of-type {\n",
       "        vertical-align: middle;\n",
       "    }\n",
       "\n",
       "    .dataframe tbody tr th {\n",
       "        vertical-align: top;\n",
       "    }\n",
       "\n",
       "    .dataframe thead th {\n",
       "        text-align: right;\n",
       "    }\n",
       "</style>\n",
       "<table border=\"1\" class=\"dataframe\">\n",
       "  <thead>\n",
       "    <tr style=\"text-align: right;\">\n",
       "      <th></th>\n",
       "      <th>Code Domaine</th>\n",
       "      <th>Domaine</th>\n",
       "      <th>Code zone</th>\n",
       "      <th>Zone</th>\n",
       "      <th>Code Élément</th>\n",
       "      <th>Élément</th>\n",
       "      <th>Code Produit</th>\n",
       "      <th>Produit</th>\n",
       "      <th>Code année</th>\n",
       "      <th>Année</th>\n",
       "      <th>Unité</th>\n",
       "      <th>Valeur</th>\n",
       "      <th>Symbole</th>\n",
       "      <th>Description du Symbole</th>\n",
       "      <th>origine</th>\n",
       "    </tr>\n",
       "  </thead>\n",
       "  <tbody>\n",
       "    <tr>\n",
       "      <th>0</th>\n",
       "      <td>FBS</td>\n",
       "      <td>Bilans Alimentaires (2010-)</td>\n",
       "      <td>2</td>\n",
       "      <td>Afghanistan</td>\n",
       "      <td>5511</td>\n",
       "      <td>Production</td>\n",
       "      <td>2731</td>\n",
       "      <td>Viande de Bovins</td>\n",
       "      <td>2019</td>\n",
       "      <td>2019</td>\n",
       "      <td>Milliers de tonnes</td>\n",
       "      <td>95.0</td>\n",
       "      <td>Im</td>\n",
       "      <td>Données de la FAO basées sur une méthodologie ...</td>\n",
       "      <td>animale</td>\n",
       "    </tr>\n",
       "    <tr>\n",
       "      <th>1</th>\n",
       "      <td>FBS</td>\n",
       "      <td>Bilans Alimentaires (2010-)</td>\n",
       "      <td>2</td>\n",
       "      <td>Afghanistan</td>\n",
       "      <td>5611</td>\n",
       "      <td>Importations - Quantité</td>\n",
       "      <td>2731</td>\n",
       "      <td>Viande de Bovins</td>\n",
       "      <td>2019</td>\n",
       "      <td>2019</td>\n",
       "      <td>Milliers de tonnes</td>\n",
       "      <td>5.0</td>\n",
       "      <td>Im</td>\n",
       "      <td>Données de la FAO basées sur une méthodologie ...</td>\n",
       "      <td>animale</td>\n",
       "    </tr>\n",
       "    <tr>\n",
       "      <th>2</th>\n",
       "      <td>FBS</td>\n",
       "      <td>Bilans Alimentaires (2010-)</td>\n",
       "      <td>2</td>\n",
       "      <td>Afghanistan</td>\n",
       "      <td>5072</td>\n",
       "      <td>Variation de stock</td>\n",
       "      <td>2731</td>\n",
       "      <td>Viande de Bovins</td>\n",
       "      <td>2019</td>\n",
       "      <td>2019</td>\n",
       "      <td>Milliers de tonnes</td>\n",
       "      <td>0.0</td>\n",
       "      <td>Im</td>\n",
       "      <td>Données de la FAO basées sur une méthodologie ...</td>\n",
       "      <td>animale</td>\n",
       "    </tr>\n",
       "    <tr>\n",
       "      <th>3</th>\n",
       "      <td>FBS</td>\n",
       "      <td>Bilans Alimentaires (2010-)</td>\n",
       "      <td>2</td>\n",
       "      <td>Afghanistan</td>\n",
       "      <td>5911</td>\n",
       "      <td>Exportations - Quantité</td>\n",
       "      <td>2731</td>\n",
       "      <td>Viande de Bovins</td>\n",
       "      <td>2019</td>\n",
       "      <td>2019</td>\n",
       "      <td>Milliers de tonnes</td>\n",
       "      <td>0.0</td>\n",
       "      <td>Im</td>\n",
       "      <td>Données de la FAO basées sur une méthodologie ...</td>\n",
       "      <td>animale</td>\n",
       "    </tr>\n",
       "    <tr>\n",
       "      <th>4</th>\n",
       "      <td>FBS</td>\n",
       "      <td>Bilans Alimentaires (2010-)</td>\n",
       "      <td>2</td>\n",
       "      <td>Afghanistan</td>\n",
       "      <td>5301</td>\n",
       "      <td>Disponibilité intérieure</td>\n",
       "      <td>2731</td>\n",
       "      <td>Viande de Bovins</td>\n",
       "      <td>2019</td>\n",
       "      <td>2019</td>\n",
       "      <td>Milliers de tonnes</td>\n",
       "      <td>101.0</td>\n",
       "      <td>S</td>\n",
       "      <td>Données standardisées</td>\n",
       "      <td>animale</td>\n",
       "    </tr>\n",
       "  </tbody>\n",
       "</table>\n",
       "</div>"
      ],
      "text/plain": [
       "  Code Domaine                      Domaine  Code zone         Zone  \\\n",
       "0          FBS  Bilans Alimentaires (2010-)          2  Afghanistan   \n",
       "1          FBS  Bilans Alimentaires (2010-)          2  Afghanistan   \n",
       "2          FBS  Bilans Alimentaires (2010-)          2  Afghanistan   \n",
       "3          FBS  Bilans Alimentaires (2010-)          2  Afghanistan   \n",
       "4          FBS  Bilans Alimentaires (2010-)          2  Afghanistan   \n",
       "\n",
       "   Code Élément                   Élément  Code Produit           Produit  \\\n",
       "0          5511                Production          2731  Viande de Bovins   \n",
       "1          5611   Importations - Quantité          2731  Viande de Bovins   \n",
       "2          5072        Variation de stock          2731  Viande de Bovins   \n",
       "3          5911   Exportations - Quantité          2731  Viande de Bovins   \n",
       "4          5301  Disponibilité intérieure          2731  Viande de Bovins   \n",
       "\n",
       "   Code année  Année               Unité  Valeur Symbole  \\\n",
       "0        2019   2019  Milliers de tonnes    95.0      Im   \n",
       "1        2019   2019  Milliers de tonnes     5.0      Im   \n",
       "2        2019   2019  Milliers de tonnes     0.0      Im   \n",
       "3        2019   2019  Milliers de tonnes     0.0      Im   \n",
       "4        2019   2019  Milliers de tonnes   101.0       S   \n",
       "\n",
       "                              Description du Symbole  origine  \n",
       "0  Données de la FAO basées sur une méthodologie ...  animale  \n",
       "1  Données de la FAO basées sur une méthodologie ...  animale  \n",
       "2  Données de la FAO basées sur une méthodologie ...  animale  \n",
       "3  Données de la FAO basées sur une méthodologie ...  animale  \n",
       "4                              Données standardisées  animale  "
      ]
     },
     "execution_count": 212,
     "metadata": {},
     "output_type": "execute_result"
    }
   ],
   "source": [
    "df_animaux2019.head()"
   ]
  },
  {
   "cell_type": "code",
   "execution_count": 213,
   "id": "c7e57d39",
   "metadata": {},
   "outputs": [
    {
     "data": {
      "text/html": [
       "<div>\n",
       "<style scoped>\n",
       "    .dataframe tbody tr th:only-of-type {\n",
       "        vertical-align: middle;\n",
       "    }\n",
       "\n",
       "    .dataframe tbody tr th {\n",
       "        vertical-align: top;\n",
       "    }\n",
       "\n",
       "    .dataframe thead th {\n",
       "        text-align: right;\n",
       "    }\n",
       "</style>\n",
       "<table border=\"1\" class=\"dataframe\">\n",
       "  <thead>\n",
       "    <tr style=\"text-align: right;\">\n",
       "      <th></th>\n",
       "      <th>Code Domaine</th>\n",
       "      <th>Domaine</th>\n",
       "      <th>Code zone</th>\n",
       "      <th>Zone</th>\n",
       "      <th>Code Élément</th>\n",
       "      <th>Élément</th>\n",
       "      <th>Code Produit</th>\n",
       "      <th>Produit</th>\n",
       "      <th>Code année</th>\n",
       "      <th>Année</th>\n",
       "      <th>Unité</th>\n",
       "      <th>Valeur</th>\n",
       "      <th>Symbole</th>\n",
       "      <th>Description du Symbole</th>\n",
       "      <th>origine</th>\n",
       "    </tr>\n",
       "  </thead>\n",
       "  <tbody>\n",
       "    <tr>\n",
       "      <th>0</th>\n",
       "      <td>FBS</td>\n",
       "      <td>Bilans Alimentaires (2010-)</td>\n",
       "      <td>2</td>\n",
       "      <td>Afghanistan</td>\n",
       "      <td>5511</td>\n",
       "      <td>Production</td>\n",
       "      <td>2511</td>\n",
       "      <td>Blé et produits</td>\n",
       "      <td>2019</td>\n",
       "      <td>2019</td>\n",
       "      <td>Milliers de tonnes</td>\n",
       "      <td>4890.0</td>\n",
       "      <td>Im</td>\n",
       "      <td>Données de la FAO basées sur une méthodologie ...</td>\n",
       "      <td>vegetale</td>\n",
       "    </tr>\n",
       "    <tr>\n",
       "      <th>1</th>\n",
       "      <td>FBS</td>\n",
       "      <td>Bilans Alimentaires (2010-)</td>\n",
       "      <td>2</td>\n",
       "      <td>Afghanistan</td>\n",
       "      <td>5611</td>\n",
       "      <td>Importations - Quantité</td>\n",
       "      <td>2511</td>\n",
       "      <td>Blé et produits</td>\n",
       "      <td>2019</td>\n",
       "      <td>2019</td>\n",
       "      <td>Milliers de tonnes</td>\n",
       "      <td>2526.0</td>\n",
       "      <td>Im</td>\n",
       "      <td>Données de la FAO basées sur une méthodologie ...</td>\n",
       "      <td>vegetale</td>\n",
       "    </tr>\n",
       "    <tr>\n",
       "      <th>2</th>\n",
       "      <td>FBS</td>\n",
       "      <td>Bilans Alimentaires (2010-)</td>\n",
       "      <td>2</td>\n",
       "      <td>Afghanistan</td>\n",
       "      <td>5072</td>\n",
       "      <td>Variation de stock</td>\n",
       "      <td>2511</td>\n",
       "      <td>Blé et produits</td>\n",
       "      <td>2019</td>\n",
       "      <td>2019</td>\n",
       "      <td>Milliers de tonnes</td>\n",
       "      <td>-104.0</td>\n",
       "      <td>Im</td>\n",
       "      <td>Données de la FAO basées sur une méthodologie ...</td>\n",
       "      <td>vegetale</td>\n",
       "    </tr>\n",
       "    <tr>\n",
       "      <th>3</th>\n",
       "      <td>FBS</td>\n",
       "      <td>Bilans Alimentaires (2010-)</td>\n",
       "      <td>2</td>\n",
       "      <td>Afghanistan</td>\n",
       "      <td>5911</td>\n",
       "      <td>Exportations - Quantité</td>\n",
       "      <td>2511</td>\n",
       "      <td>Blé et produits</td>\n",
       "      <td>2019</td>\n",
       "      <td>2019</td>\n",
       "      <td>Milliers de tonnes</td>\n",
       "      <td>0.0</td>\n",
       "      <td>Im</td>\n",
       "      <td>Données de la FAO basées sur une méthodologie ...</td>\n",
       "      <td>vegetale</td>\n",
       "    </tr>\n",
       "    <tr>\n",
       "      <th>4</th>\n",
       "      <td>FBS</td>\n",
       "      <td>Bilans Alimentaires (2010-)</td>\n",
       "      <td>2</td>\n",
       "      <td>Afghanistan</td>\n",
       "      <td>5301</td>\n",
       "      <td>Disponibilité intérieure</td>\n",
       "      <td>2511</td>\n",
       "      <td>Blé et produits</td>\n",
       "      <td>2019</td>\n",
       "      <td>2019</td>\n",
       "      <td>Milliers de tonnes</td>\n",
       "      <td>7519.0</td>\n",
       "      <td>S</td>\n",
       "      <td>Données standardisées</td>\n",
       "      <td>vegetale</td>\n",
       "    </tr>\n",
       "  </tbody>\n",
       "</table>\n",
       "</div>"
      ],
      "text/plain": [
       "  Code Domaine                      Domaine  Code zone         Zone  \\\n",
       "0          FBS  Bilans Alimentaires (2010-)          2  Afghanistan   \n",
       "1          FBS  Bilans Alimentaires (2010-)          2  Afghanistan   \n",
       "2          FBS  Bilans Alimentaires (2010-)          2  Afghanistan   \n",
       "3          FBS  Bilans Alimentaires (2010-)          2  Afghanistan   \n",
       "4          FBS  Bilans Alimentaires (2010-)          2  Afghanistan   \n",
       "\n",
       "   Code Élément                   Élément  Code Produit          Produit  \\\n",
       "0          5511                Production          2511  Blé et produits   \n",
       "1          5611   Importations - Quantité          2511  Blé et produits   \n",
       "2          5072        Variation de stock          2511  Blé et produits   \n",
       "3          5911   Exportations - Quantité          2511  Blé et produits   \n",
       "4          5301  Disponibilité intérieure          2511  Blé et produits   \n",
       "\n",
       "   Code année  Année               Unité  Valeur Symbole  \\\n",
       "0        2019   2019  Milliers de tonnes  4890.0      Im   \n",
       "1        2019   2019  Milliers de tonnes  2526.0      Im   \n",
       "2        2019   2019  Milliers de tonnes  -104.0      Im   \n",
       "3        2019   2019  Milliers de tonnes     0.0      Im   \n",
       "4        2019   2019  Milliers de tonnes  7519.0       S   \n",
       "\n",
       "                              Description du Symbole   origine  \n",
       "0  Données de la FAO basées sur une méthodologie ...  vegetale  \n",
       "1  Données de la FAO basées sur une méthodologie ...  vegetale  \n",
       "2  Données de la FAO basées sur une méthodologie ...  vegetale  \n",
       "3  Données de la FAO basées sur une méthodologie ...  vegetale  \n",
       "4                              Données standardisées  vegetale  "
      ]
     },
     "execution_count": 213,
     "metadata": {},
     "output_type": "execute_result"
    }
   ],
   "source": [
    "df_vegetaux2019.head()"
   ]
  },
  {
   "cell_type": "code",
   "execution_count": 214,
   "id": "1181b2eb",
   "metadata": {},
   "outputs": [],
   "source": [
    "data = pd.concat([df_animaux2019, df_vegetaux2019])"
   ]
  },
  {
   "cell_type": "code",
   "execution_count": 215,
   "id": "c5e3ff10",
   "metadata": {},
   "outputs": [],
   "source": [
    "data = data.pivot_table(index=[\"Zone\",\"Code zone\",\"Produit\",\"Code Produit\",\"origine\",\"Année\"],values = \"Valeur\",columns = \"Élément\")"
   ]
  },
  {
   "cell_type": "code",
   "execution_count": 216,
   "id": "a5345b58",
   "metadata": {},
   "outputs": [],
   "source": [
    "data = data.rename_axis(None,axis = 1)\n",
    "data.reset_index(inplace=True)"
   ]
  },
  {
   "cell_type": "code",
   "execution_count": 217,
   "id": "6d70c108",
   "metadata": {},
   "outputs": [],
   "source": [
    "data = pd.merge(data, df_pop, on= [\"Zone\"],how=\"inner\")"
   ]
  },
  {
   "cell_type": "code",
   "execution_count": 218,
   "id": "241f9795",
   "metadata": {},
   "outputs": [
    {
     "data": {
      "text/html": [
       "<div>\n",
       "<style scoped>\n",
       "    .dataframe tbody tr th:only-of-type {\n",
       "        vertical-align: middle;\n",
       "    }\n",
       "\n",
       "    .dataframe tbody tr th {\n",
       "        vertical-align: top;\n",
       "    }\n",
       "\n",
       "    .dataframe thead th {\n",
       "        text-align: right;\n",
       "    }\n",
       "</style>\n",
       "<table border=\"1\" class=\"dataframe\">\n",
       "  <thead>\n",
       "    <tr style=\"text-align: right;\">\n",
       "      <th></th>\n",
       "      <th>Zone</th>\n",
       "      <th>Code zone</th>\n",
       "      <th>Produit</th>\n",
       "      <th>Code Produit</th>\n",
       "      <th>origine</th>\n",
       "      <th>Année</th>\n",
       "      <th>Alimentation pour touristes</th>\n",
       "      <th>Aliments pour animaux</th>\n",
       "      <th>Autres utilisations (non alimentaire)</th>\n",
       "      <th>Disponibilité alimentaire (Kcal/personne/jour)</th>\n",
       "      <th>...</th>\n",
       "      <th>Nourriture</th>\n",
       "      <th>Pertes</th>\n",
       "      <th>Production</th>\n",
       "      <th>Résidus</th>\n",
       "      <th>Semences</th>\n",
       "      <th>Traitement</th>\n",
       "      <th>Variation de stock</th>\n",
       "      <th>2019</th>\n",
       "      <th>2021</th>\n",
       "      <th>diff_pop2019</th>\n",
       "    </tr>\n",
       "  </thead>\n",
       "  <tbody>\n",
       "    <tr>\n",
       "      <th>0</th>\n",
       "      <td>Afghanistan</td>\n",
       "      <td>2</td>\n",
       "      <td>Abats Comestible</td>\n",
       "      <td>2736</td>\n",
       "      <td>animale</td>\n",
       "      <td>2019</td>\n",
       "      <td>NaN</td>\n",
       "      <td>NaN</td>\n",
       "      <td>NaN</td>\n",
       "      <td>4.0</td>\n",
       "      <td>...</td>\n",
       "      <td>44.0</td>\n",
       "      <td>3.0</td>\n",
       "      <td>44.0</td>\n",
       "      <td>0.0</td>\n",
       "      <td>NaN</td>\n",
       "      <td>NaN</td>\n",
       "      <td>NaN</td>\n",
       "      <td>38042000.0</td>\n",
       "      <td>39835428.0</td>\n",
       "      <td>4.71</td>\n",
       "    </tr>\n",
       "    <tr>\n",
       "      <th>1</th>\n",
       "      <td>Afghanistan</td>\n",
       "      <td>2</td>\n",
       "      <td>Agrumes, Autres</td>\n",
       "      <td>2614</td>\n",
       "      <td>vegetale</td>\n",
       "      <td>2019</td>\n",
       "      <td>NaN</td>\n",
       "      <td>NaN</td>\n",
       "      <td>NaN</td>\n",
       "      <td>1.0</td>\n",
       "      <td>...</td>\n",
       "      <td>63.0</td>\n",
       "      <td>3.0</td>\n",
       "      <td>39.0</td>\n",
       "      <td>0.0</td>\n",
       "      <td>NaN</td>\n",
       "      <td>NaN</td>\n",
       "      <td>0.0</td>\n",
       "      <td>38042000.0</td>\n",
       "      <td>39835428.0</td>\n",
       "      <td>4.71</td>\n",
       "    </tr>\n",
       "    <tr>\n",
       "      <th>2</th>\n",
       "      <td>Afghanistan</td>\n",
       "      <td>2</td>\n",
       "      <td>Alcool, non Comestible</td>\n",
       "      <td>2659</td>\n",
       "      <td>vegetale</td>\n",
       "      <td>2019</td>\n",
       "      <td>NaN</td>\n",
       "      <td>NaN</td>\n",
       "      <td>NaN</td>\n",
       "      <td>NaN</td>\n",
       "      <td>...</td>\n",
       "      <td>NaN</td>\n",
       "      <td>NaN</td>\n",
       "      <td>NaN</td>\n",
       "      <td>0.0</td>\n",
       "      <td>NaN</td>\n",
       "      <td>NaN</td>\n",
       "      <td>NaN</td>\n",
       "      <td>38042000.0</td>\n",
       "      <td>39835428.0</td>\n",
       "      <td>4.71</td>\n",
       "    </tr>\n",
       "    <tr>\n",
       "      <th>3</th>\n",
       "      <td>Afghanistan</td>\n",
       "      <td>2</td>\n",
       "      <td>Aliments pour enfants</td>\n",
       "      <td>2680</td>\n",
       "      <td>vegetale</td>\n",
       "      <td>2019</td>\n",
       "      <td>NaN</td>\n",
       "      <td>NaN</td>\n",
       "      <td>NaN</td>\n",
       "      <td>1.0</td>\n",
       "      <td>...</td>\n",
       "      <td>2.0</td>\n",
       "      <td>NaN</td>\n",
       "      <td>NaN</td>\n",
       "      <td>0.0</td>\n",
       "      <td>NaN</td>\n",
       "      <td>NaN</td>\n",
       "      <td>0.0</td>\n",
       "      <td>38042000.0</td>\n",
       "      <td>39835428.0</td>\n",
       "      <td>4.71</td>\n",
       "    </tr>\n",
       "    <tr>\n",
       "      <th>4</th>\n",
       "      <td>Afghanistan</td>\n",
       "      <td>2</td>\n",
       "      <td>Ananas et produits</td>\n",
       "      <td>2618</td>\n",
       "      <td>vegetale</td>\n",
       "      <td>2019</td>\n",
       "      <td>NaN</td>\n",
       "      <td>NaN</td>\n",
       "      <td>NaN</td>\n",
       "      <td>0.0</td>\n",
       "      <td>...</td>\n",
       "      <td>1.0</td>\n",
       "      <td>NaN</td>\n",
       "      <td>NaN</td>\n",
       "      <td>0.0</td>\n",
       "      <td>NaN</td>\n",
       "      <td>NaN</td>\n",
       "      <td>0.0</td>\n",
       "      <td>38042000.0</td>\n",
       "      <td>39835428.0</td>\n",
       "      <td>4.71</td>\n",
       "    </tr>\n",
       "  </tbody>\n",
       "</table>\n",
       "<p>5 rows × 26 columns</p>\n",
       "</div>"
      ],
      "text/plain": [
       "          Zone  Code zone                 Produit  Code Produit   origine  \\\n",
       "0  Afghanistan          2        Abats Comestible          2736   animale   \n",
       "1  Afghanistan          2         Agrumes, Autres          2614  vegetale   \n",
       "2  Afghanistan          2  Alcool, non Comestible          2659  vegetale   \n",
       "3  Afghanistan          2   Aliments pour enfants          2680  vegetale   \n",
       "4  Afghanistan          2      Ananas et produits          2618  vegetale   \n",
       "\n",
       "   Année  Alimentation pour touristes  Aliments pour animaux  \\\n",
       "0   2019                          NaN                    NaN   \n",
       "1   2019                          NaN                    NaN   \n",
       "2   2019                          NaN                    NaN   \n",
       "3   2019                          NaN                    NaN   \n",
       "4   2019                          NaN                    NaN   \n",
       "\n",
       "   Autres utilisations (non alimentaire)  \\\n",
       "0                                    NaN   \n",
       "1                                    NaN   \n",
       "2                                    NaN   \n",
       "3                                    NaN   \n",
       "4                                    NaN   \n",
       "\n",
       "   Disponibilité alimentaire (Kcal/personne/jour)  ...  Nourriture  Pertes  \\\n",
       "0                                             4.0  ...        44.0     3.0   \n",
       "1                                             1.0  ...        63.0     3.0   \n",
       "2                                             NaN  ...         NaN     NaN   \n",
       "3                                             1.0  ...         2.0     NaN   \n",
       "4                                             0.0  ...         1.0     NaN   \n",
       "\n",
       "   Production  Résidus  Semences  Traitement  Variation de stock        2019  \\\n",
       "0        44.0      0.0       NaN         NaN                 NaN  38042000.0   \n",
       "1        39.0      0.0       NaN         NaN                 0.0  38042000.0   \n",
       "2         NaN      0.0       NaN         NaN                 NaN  38042000.0   \n",
       "3         NaN      0.0       NaN         NaN                 0.0  38042000.0   \n",
       "4         NaN      0.0       NaN         NaN                 0.0  38042000.0   \n",
       "\n",
       "         2021  diff_pop2019  \n",
       "0  39835428.0          4.71  \n",
       "1  39835428.0          4.71  \n",
       "2  39835428.0          4.71  \n",
       "3  39835428.0          4.71  \n",
       "4  39835428.0          4.71  \n",
       "\n",
       "[5 rows x 26 columns]"
      ]
     },
     "execution_count": 218,
     "metadata": {},
     "output_type": "execute_result"
    }
   ],
   "source": [
    "data.head()"
   ]
  },
  {
   "cell_type": "code",
   "execution_count": 219,
   "id": "a3f61986",
   "metadata": {},
   "outputs": [],
   "source": [
    "indexNames = df_population[df_population['Zone'] == 'Chine, continentale'].index"
   ]
  },
  {
   "cell_type": "code",
   "execution_count": 220,
   "id": "26c15838",
   "metadata": {},
   "outputs": [
    {
     "data": {
      "text/plain": [
       "Int64Index([44, 35], dtype='int64')"
      ]
     },
     "execution_count": 220,
     "metadata": {},
     "output_type": "execute_result"
    }
   ],
   "source": [
    "indexNames"
   ]
  },
  {
   "cell_type": "code",
   "execution_count": 221,
   "id": "cf2da9d0",
   "metadata": {},
   "outputs": [],
   "source": [
    "data = data.loc[~data['Code zone'].isin([41]), :]"
   ]
  },
  {
   "cell_type": "code",
   "execution_count": 222,
   "id": "fb7a30db",
   "metadata": {},
   "outputs": [
    {
     "name": "stdout",
     "output_type": "stream",
     "text": [
      "                                       Zone  Annee  nb_population\n",
      "0                               Afghanistan   2021     39835428.0\n",
      "1                            Afrique du Sud   2021     60041994.0\n",
      "2                                   Albanie   2021      2872933.0\n",
      "3                                   Algérie   2021     44616624.0\n",
      "4                                 Allemagne   2021     83900473.0\n",
      "..                                      ...    ...            ...\n",
      "174  Venezuela (République bolivarienne du)   2019     28516000.0\n",
      "175                                Viet Nam   2019     96462000.0\n",
      "176                                   Yémen   2019     29162000.0\n",
      "177                                  Zambie   2019     17861000.0\n",
      "178                                Zimbabwe   2019     14645000.0\n",
      "\n",
      "[412 rows x 3 columns]\n"
     ]
    }
   ],
   "source": [
    "df_population.drop(indexNames , inplace=True)\n",
    "print(df_population)"
   ]
  },
  {
   "cell_type": "code",
   "execution_count": 223,
   "id": "c17ea7e2",
   "metadata": {},
   "outputs": [
    {
     "name": "stdout",
     "output_type": "stream",
     "text": [
      "<class 'pandas.core.frame.DataFrame'>\n",
      "Int64Index: 16564 entries, 0 to 16660\n",
      "Data columns (total 26 columns):\n",
      " #   Column                                                         Non-Null Count  Dtype  \n",
      "---  ------                                                         --------------  -----  \n",
      " 0   Zone                                                           16564 non-null  object \n",
      " 1   Code zone                                                      16564 non-null  int64  \n",
      " 2   Produit                                                        16564 non-null  object \n",
      " 3   Code Produit                                                   16564 non-null  int64  \n",
      " 4   origine                                                        16564 non-null  object \n",
      " 5   Année                                                          16564 non-null  int64  \n",
      " 6   Alimentation pour touristes                                    2929 non-null   float64\n",
      " 7   Aliments pour animaux                                          4598 non-null   float64\n",
      " 8   Autres utilisations (non alimentaire)                          5345 non-null   float64\n",
      " 9   Disponibilité alimentaire (Kcal/personne/jour)                 15122 non-null  float64\n",
      " 10  Disponibilité alimentaire en quantité (kg/personne/an)         15256 non-null  float64\n",
      " 11  Disponibilité de matière grasse en quantité (g/personne/jour)  15141 non-null  float64\n",
      " 12  Disponibilité de protéines en quantité (g/personne/jour)       15138 non-null  float64\n",
      " 13  Disponibilité intérieure                                       16564 non-null  float64\n",
      " 14  Exportations - Quantité                                        12445 non-null  float64\n",
      " 15  Importations - Quantité                                        15893 non-null  float64\n",
      " 16  Nourriture                                                     15256 non-null  float64\n",
      " 17  Pertes                                                         6542 non-null   float64\n",
      " 18  Production                                                     10201 non-null  float64\n",
      " 19  Résidus                                                        14628 non-null  float64\n",
      " 20  Semences                                                       2072 non-null   float64\n",
      " 21  Traitement                                                     3219 non-null   float64\n",
      " 22  Variation de stock                                             13527 non-null  float64\n",
      " 23  2019                                                           16564 non-null  float64\n",
      " 24  2021                                                           16564 non-null  float64\n",
      " 25  diff_pop2019                                                   16564 non-null  float64\n",
      "dtypes: float64(20), int64(3), object(3)\n",
      "memory usage: 3.4+ MB\n"
     ]
    }
   ],
   "source": [
    "data.info()"
   ]
  },
  {
   "cell_type": "code",
   "execution_count": 224,
   "id": "d20a9dbe",
   "metadata": {},
   "outputs": [],
   "source": [
    "# calcul des disponibilités en cal et en protéines par habitant sur 2019\n",
    "data['dispo_alim_cal'] = data[\"Disponibilité alimentaire (Kcal/personne/jour)\"] * 1000 * data[2019] * 365\n",
    "data['dispo_alim_prot'] = data[\"Disponibilité de protéines en quantité (g/personne/jour)\"] * data[2019] * 365\n",
    "# à verifier"
   ]
  },
  {
   "cell_type": "code",
   "execution_count": 225,
   "id": "38cbe199",
   "metadata": {},
   "outputs": [],
   "source": [
    "dt1=data.groupby('Zone')['dispo_alim_cal'].sum().reset_index()"
   ]
  },
  {
   "cell_type": "code",
   "execution_count": 226,
   "id": "9b64723e",
   "metadata": {},
   "outputs": [],
   "source": [
    "dt2=data.groupby('Zone')['dispo_alim_prot'].sum().reset_index()"
   ]
  },
  {
   "cell_type": "code",
   "execution_count": 227,
   "id": "7adc4336",
   "metadata": {},
   "outputs": [
    {
     "data": {
      "text/html": [
       "<div>\n",
       "<style scoped>\n",
       "    .dataframe tbody tr th:only-of-type {\n",
       "        vertical-align: middle;\n",
       "    }\n",
       "\n",
       "    .dataframe tbody tr th {\n",
       "        vertical-align: top;\n",
       "    }\n",
       "\n",
       "    .dataframe thead th {\n",
       "        text-align: right;\n",
       "    }\n",
       "</style>\n",
       "<table border=\"1\" class=\"dataframe\">\n",
       "  <thead>\n",
       "    <tr style=\"text-align: right;\">\n",
       "      <th></th>\n",
       "      <th>Zone</th>\n",
       "      <th>dispo_alim_cal</th>\n",
       "    </tr>\n",
       "  </thead>\n",
       "  <tbody>\n",
       "    <tr>\n",
       "      <th>0</th>\n",
       "      <td>Afghanistan</td>\n",
       "      <td>3.153358e+16</td>\n",
       "    </tr>\n",
       "    <tr>\n",
       "      <th>1</th>\n",
       "      <td>Afrique du Sud</td>\n",
       "      <td>6.179128e+16</td>\n",
       "    </tr>\n",
       "    <tr>\n",
       "      <th>2</th>\n",
       "      <td>Albanie</td>\n",
       "      <td>3.505918e+15</td>\n",
       "    </tr>\n",
       "    <tr>\n",
       "      <th>3</th>\n",
       "      <td>Algérie</td>\n",
       "      <td>5.484306e+16</td>\n",
       "    </tr>\n",
       "    <tr>\n",
       "      <th>4</th>\n",
       "      <td>Allemagne</td>\n",
       "      <td>1.084610e+17</td>\n",
       "    </tr>\n",
       "  </tbody>\n",
       "</table>\n",
       "</div>"
      ],
      "text/plain": [
       "             Zone  dispo_alim_cal\n",
       "0     Afghanistan    3.153358e+16\n",
       "1  Afrique du Sud    6.179128e+16\n",
       "2         Albanie    3.505918e+15\n",
       "3         Algérie    5.484306e+16\n",
       "4       Allemagne    1.084610e+17"
      ]
     },
     "execution_count": 227,
     "metadata": {},
     "output_type": "execute_result"
    }
   ],
   "source": [
    "dt1.head()"
   ]
  },
  {
   "cell_type": "code",
   "execution_count": 228,
   "id": "d476961c",
   "metadata": {},
   "outputs": [],
   "source": [
    "prot_pays=data.groupby(['Zone','origine'])['Disponibilité de protéines en quantité (g/personne/jour)'].sum().reset_index()"
   ]
  },
  {
   "cell_type": "code",
   "execution_count": 230,
   "id": "568673a8",
   "metadata": {},
   "outputs": [
    {
     "data": {
      "text/html": [
       "<div>\n",
       "<style scoped>\n",
       "    .dataframe tbody tr th:only-of-type {\n",
       "        vertical-align: middle;\n",
       "    }\n",
       "\n",
       "    .dataframe tbody tr th {\n",
       "        vertical-align: top;\n",
       "    }\n",
       "\n",
       "    .dataframe thead th {\n",
       "        text-align: right;\n",
       "    }\n",
       "</style>\n",
       "<table border=\"1\" class=\"dataframe\">\n",
       "  <thead>\n",
       "    <tr style=\"text-align: right;\">\n",
       "      <th></th>\n",
       "      <th>Zone</th>\n",
       "      <th>origine</th>\n",
       "      <th>Disponibilité de protéines en quantité (g/personne/jour)</th>\n",
       "    </tr>\n",
       "  </thead>\n",
       "  <tbody>\n",
       "    <tr>\n",
       "      <th>0</th>\n",
       "      <td>Afghanistan</td>\n",
       "      <td>animale</td>\n",
       "      <td>10.34</td>\n",
       "    </tr>\n",
       "    <tr>\n",
       "      <th>1</th>\n",
       "      <td>Afghanistan</td>\n",
       "      <td>vegetale</td>\n",
       "      <td>46.95</td>\n",
       "    </tr>\n",
       "    <tr>\n",
       "      <th>2</th>\n",
       "      <td>Afrique du Sud</td>\n",
       "      <td>animale</td>\n",
       "      <td>35.12</td>\n",
       "    </tr>\n",
       "    <tr>\n",
       "      <th>3</th>\n",
       "      <td>Afrique du Sud</td>\n",
       "      <td>vegetale</td>\n",
       "      <td>44.61</td>\n",
       "    </tr>\n",
       "    <tr>\n",
       "      <th>4</th>\n",
       "      <td>Albanie</td>\n",
       "      <td>animale</td>\n",
       "      <td>62.46</td>\n",
       "    </tr>\n",
       "  </tbody>\n",
       "</table>\n",
       "</div>"
      ],
      "text/plain": [
       "             Zone   origine  \\\n",
       "0     Afghanistan   animale   \n",
       "1     Afghanistan  vegetale   \n",
       "2  Afrique du Sud   animale   \n",
       "3  Afrique du Sud  vegetale   \n",
       "4         Albanie   animale   \n",
       "\n",
       "   Disponibilité de protéines en quantité (g/personne/jour)  \n",
       "0                                              10.34         \n",
       "1                                              46.95         \n",
       "2                                              35.12         \n",
       "3                                              44.61         \n",
       "4                                              62.46         "
      ]
     },
     "execution_count": 230,
     "metadata": {},
     "output_type": "execute_result"
    }
   ],
   "source": [
    "prot_pays.head()"
   ]
  },
  {
   "cell_type": "code",
   "execution_count": 231,
   "id": "09095e6b",
   "metadata": {},
   "outputs": [],
   "source": [
    "prot_pays_anim_veget = prot_pays.pivot(values='Disponibilité de protéines en quantité (g/personne/jour)',index='Zone',columns='origine').reset_index()"
   ]
  },
  {
   "cell_type": "code",
   "execution_count": 232,
   "id": "222f71e9",
   "metadata": {},
   "outputs": [
    {
     "data": {
      "text/html": [
       "<div>\n",
       "<style scoped>\n",
       "    .dataframe tbody tr th:only-of-type {\n",
       "        vertical-align: middle;\n",
       "    }\n",
       "\n",
       "    .dataframe tbody tr th {\n",
       "        vertical-align: top;\n",
       "    }\n",
       "\n",
       "    .dataframe thead th {\n",
       "        text-align: right;\n",
       "    }\n",
       "</style>\n",
       "<table border=\"1\" class=\"dataframe\">\n",
       "  <thead>\n",
       "    <tr style=\"text-align: right;\">\n",
       "      <th>origine</th>\n",
       "      <th>Zone</th>\n",
       "      <th>animale</th>\n",
       "      <th>vegetale</th>\n",
       "    </tr>\n",
       "  </thead>\n",
       "  <tbody>\n",
       "    <tr>\n",
       "      <th>0</th>\n",
       "      <td>Afghanistan</td>\n",
       "      <td>10.34</td>\n",
       "      <td>46.95</td>\n",
       "    </tr>\n",
       "    <tr>\n",
       "      <th>1</th>\n",
       "      <td>Afrique du Sud</td>\n",
       "      <td>35.12</td>\n",
       "      <td>44.61</td>\n",
       "    </tr>\n",
       "    <tr>\n",
       "      <th>2</th>\n",
       "      <td>Albanie</td>\n",
       "      <td>62.46</td>\n",
       "      <td>53.52</td>\n",
       "    </tr>\n",
       "    <tr>\n",
       "      <th>3</th>\n",
       "      <td>Algérie</td>\n",
       "      <td>24.09</td>\n",
       "      <td>66.73</td>\n",
       "    </tr>\n",
       "    <tr>\n",
       "      <th>4</th>\n",
       "      <td>Allemagne</td>\n",
       "      <td>62.72</td>\n",
       "      <td>41.49</td>\n",
       "    </tr>\n",
       "  </tbody>\n",
       "</table>\n",
       "</div>"
      ],
      "text/plain": [
       "origine            Zone  animale  vegetale\n",
       "0           Afghanistan    10.34     46.95\n",
       "1        Afrique du Sud    35.12     44.61\n",
       "2               Albanie    62.46     53.52\n",
       "3               Algérie    24.09     66.73\n",
       "4             Allemagne    62.72     41.49"
      ]
     },
     "execution_count": 232,
     "metadata": {},
     "output_type": "execute_result"
    }
   ],
   "source": [
    "prot_pays_anim_veget.head()"
   ]
  },
  {
   "cell_type": "code",
   "execution_count": 233,
   "id": "543d3852",
   "metadata": {},
   "outputs": [],
   "source": [
    "prot_pays_anim_veget['prop_prot_animale']=prot_pays_anim_veget.apply(lambda x:x['animale']*100/(x['animale']+x['vegetale']),axis=1)"
   ]
  },
  {
   "cell_type": "code",
   "execution_count": 234,
   "id": "0be7112a",
   "metadata": {},
   "outputs": [
    {
     "data": {
      "text/html": [
       "<div>\n",
       "<style scoped>\n",
       "    .dataframe tbody tr th:only-of-type {\n",
       "        vertical-align: middle;\n",
       "    }\n",
       "\n",
       "    .dataframe tbody tr th {\n",
       "        vertical-align: top;\n",
       "    }\n",
       "\n",
       "    .dataframe thead th {\n",
       "        text-align: right;\n",
       "    }\n",
       "</style>\n",
       "<table border=\"1\" class=\"dataframe\">\n",
       "  <thead>\n",
       "    <tr style=\"text-align: right;\">\n",
       "      <th>origine</th>\n",
       "      <th>Zone</th>\n",
       "      <th>animale</th>\n",
       "      <th>vegetale</th>\n",
       "      <th>prop_prot_animale</th>\n",
       "    </tr>\n",
       "  </thead>\n",
       "  <tbody>\n",
       "    <tr>\n",
       "      <th>0</th>\n",
       "      <td>Afghanistan</td>\n",
       "      <td>10.34</td>\n",
       "      <td>46.95</td>\n",
       "      <td>18.048525</td>\n",
       "    </tr>\n",
       "    <tr>\n",
       "      <th>1</th>\n",
       "      <td>Afrique du Sud</td>\n",
       "      <td>35.12</td>\n",
       "      <td>44.61</td>\n",
       "      <td>44.048664</td>\n",
       "    </tr>\n",
       "    <tr>\n",
       "      <th>2</th>\n",
       "      <td>Albanie</td>\n",
       "      <td>62.46</td>\n",
       "      <td>53.52</td>\n",
       "      <td>53.854113</td>\n",
       "    </tr>\n",
       "    <tr>\n",
       "      <th>3</th>\n",
       "      <td>Algérie</td>\n",
       "      <td>24.09</td>\n",
       "      <td>66.73</td>\n",
       "      <td>26.524994</td>\n",
       "    </tr>\n",
       "    <tr>\n",
       "      <th>4</th>\n",
       "      <td>Allemagne</td>\n",
       "      <td>62.72</td>\n",
       "      <td>41.49</td>\n",
       "      <td>60.186163</td>\n",
       "    </tr>\n",
       "  </tbody>\n",
       "</table>\n",
       "</div>"
      ],
      "text/plain": [
       "origine            Zone  animale  vegetale  prop_prot_animale\n",
       "0           Afghanistan    10.34     46.95          18.048525\n",
       "1        Afrique du Sud    35.12     44.61          44.048664\n",
       "2               Albanie    62.46     53.52          53.854113\n",
       "3               Algérie    24.09     66.73          26.524994\n",
       "4             Allemagne    62.72     41.49          60.186163"
      ]
     },
     "execution_count": 234,
     "metadata": {},
     "output_type": "execute_result"
    }
   ],
   "source": [
    "prot_pays_anim_veget.head()"
   ]
  },
  {
   "cell_type": "code",
   "execution_count": 235,
   "id": "baecb0da",
   "metadata": {},
   "outputs": [],
   "source": [
    "dt = pd.merge(dt1, dt2, on=['Zone'], how='left')"
   ]
  },
  {
   "cell_type": "code",
   "execution_count": 236,
   "id": "16213b9c",
   "metadata": {},
   "outputs": [],
   "source": [
    "dt = pd.merge(dt, prot_pays_anim_veget, on=['Zone'], how='left')"
   ]
  },
  {
   "cell_type": "code",
   "execution_count": 237,
   "id": "d4c8e659",
   "metadata": {},
   "outputs": [],
   "source": [
    "dt = pd.merge(dt, df_pop1, on=['Zone'], how='left')"
   ]
  },
  {
   "cell_type": "code",
   "execution_count": 238,
   "id": "68a58b4f",
   "metadata": {},
   "outputs": [],
   "source": [
    "dt = pd.merge(dt, df_volaille2020, on=['Zone'], how='left')"
   ]
  },
  {
   "cell_type": "code",
   "execution_count": 239,
   "id": "927cff40",
   "metadata": {},
   "outputs": [
    {
     "data": {
      "text/html": [
       "<div>\n",
       "<style scoped>\n",
       "    .dataframe tbody tr th:only-of-type {\n",
       "        vertical-align: middle;\n",
       "    }\n",
       "\n",
       "    .dataframe tbody tr th {\n",
       "        vertical-align: top;\n",
       "    }\n",
       "\n",
       "    .dataframe thead th {\n",
       "        text-align: right;\n",
       "    }\n",
       "</style>\n",
       "<table border=\"1\" class=\"dataframe\">\n",
       "  <thead>\n",
       "    <tr style=\"text-align: right;\">\n",
       "      <th></th>\n",
       "      <th>Zone</th>\n",
       "      <th>dispo_alim_cal</th>\n",
       "      <th>dispo_alim_prot</th>\n",
       "      <th>animale</th>\n",
       "      <th>vegetale</th>\n",
       "      <th>prop_prot_animale</th>\n",
       "      <th>diff_pop2019</th>\n",
       "      <th>prod_volaille</th>\n",
       "    </tr>\n",
       "  </thead>\n",
       "  <tbody>\n",
       "    <tr>\n",
       "      <th>0</th>\n",
       "      <td>Afghanistan</td>\n",
       "      <td>3.153358e+16</td>\n",
       "      <td>7.954906e+11</td>\n",
       "      <td>10.34</td>\n",
       "      <td>46.95</td>\n",
       "      <td>18.048525</td>\n",
       "      <td>4.71</td>\n",
       "      <td>2.793800e+07</td>\n",
       "    </tr>\n",
       "    <tr>\n",
       "      <th>1</th>\n",
       "      <td>Afrique du Sud</td>\n",
       "      <td>6.179128e+16</td>\n",
       "      <td>1.704123e+12</td>\n",
       "      <td>35.12</td>\n",
       "      <td>44.61</td>\n",
       "      <td>44.048664</td>\n",
       "      <td>2.53</td>\n",
       "      <td>1.873238e+09</td>\n",
       "    </tr>\n",
       "    <tr>\n",
       "      <th>2</th>\n",
       "      <td>Albanie</td>\n",
       "      <td>3.505918e+15</td>\n",
       "      <td>1.219605e+11</td>\n",
       "      <td>62.46</td>\n",
       "      <td>53.52</td>\n",
       "      <td>53.854113</td>\n",
       "      <td>-0.28</td>\n",
       "      <td>1.223400e+07</td>\n",
       "    </tr>\n",
       "    <tr>\n",
       "      <th>3</th>\n",
       "      <td>Algérie</td>\n",
       "      <td>5.484306e+16</td>\n",
       "      <td>1.427177e+12</td>\n",
       "      <td>24.09</td>\n",
       "      <td>66.73</td>\n",
       "      <td>26.524994</td>\n",
       "      <td>3.63</td>\n",
       "      <td>2.602690e+08</td>\n",
       "    </tr>\n",
       "    <tr>\n",
       "      <th>4</th>\n",
       "      <td>Allemagne</td>\n",
       "      <td>1.084610e+17</td>\n",
       "      <td>3.176707e+12</td>\n",
       "      <td>62.72</td>\n",
       "      <td>41.49</td>\n",
       "      <td>60.186163</td>\n",
       "      <td>0.46</td>\n",
       "      <td>1.066000e+09</td>\n",
       "    </tr>\n",
       "  </tbody>\n",
       "</table>\n",
       "</div>"
      ],
      "text/plain": [
       "             Zone  dispo_alim_cal  dispo_alim_prot  animale  vegetale  \\\n",
       "0     Afghanistan    3.153358e+16     7.954906e+11    10.34     46.95   \n",
       "1  Afrique du Sud    6.179128e+16     1.704123e+12    35.12     44.61   \n",
       "2         Albanie    3.505918e+15     1.219605e+11    62.46     53.52   \n",
       "3         Algérie    5.484306e+16     1.427177e+12    24.09     66.73   \n",
       "4       Allemagne    1.084610e+17     3.176707e+12    62.72     41.49   \n",
       "\n",
       "   prop_prot_animale  diff_pop2019  prod_volaille  \n",
       "0          18.048525          4.71   2.793800e+07  \n",
       "1          44.048664          2.53   1.873238e+09  \n",
       "2          53.854113         -0.28   1.223400e+07  \n",
       "3          26.524994          3.63   2.602690e+08  \n",
       "4          60.186163          0.46   1.066000e+09  "
      ]
     },
     "execution_count": 239,
     "metadata": {},
     "output_type": "execute_result"
    }
   ],
   "source": [
    "dt.head()"
   ]
  },
  {
   "cell_type": "code",
   "execution_count": 308,
   "id": "a2165d7c",
   "metadata": {},
   "outputs": [],
   "source": [
    "data_filter = dt[[\"Zone\",\"diff_pop2019\",\"dispo_alim_cal\",\"dispo_alim_prot\",\"prop_prot_animale\",\"prod_volaille\"]].drop_duplicates()"
   ]
  },
  {
   "cell_type": "code",
   "execution_count": 309,
   "id": "63b0eea0",
   "metadata": {},
   "outputs": [
    {
     "data": {
      "text/html": [
       "<div>\n",
       "<style scoped>\n",
       "    .dataframe tbody tr th:only-of-type {\n",
       "        vertical-align: middle;\n",
       "    }\n",
       "\n",
       "    .dataframe tbody tr th {\n",
       "        vertical-align: top;\n",
       "    }\n",
       "\n",
       "    .dataframe thead th {\n",
       "        text-align: right;\n",
       "    }\n",
       "</style>\n",
       "<table border=\"1\" class=\"dataframe\">\n",
       "  <thead>\n",
       "    <tr style=\"text-align: right;\">\n",
       "      <th></th>\n",
       "      <th>Zone</th>\n",
       "      <th>diff_pop2019</th>\n",
       "      <th>dispo_alim_cal</th>\n",
       "      <th>dispo_alim_prot</th>\n",
       "      <th>prop_prot_animale</th>\n",
       "      <th>prod_volaille</th>\n",
       "    </tr>\n",
       "  </thead>\n",
       "  <tbody>\n",
       "    <tr>\n",
       "      <th>0</th>\n",
       "      <td>Afghanistan</td>\n",
       "      <td>4.71</td>\n",
       "      <td>3.153358e+16</td>\n",
       "      <td>7.954906e+11</td>\n",
       "      <td>18.048525</td>\n",
       "      <td>2.793800e+07</td>\n",
       "    </tr>\n",
       "    <tr>\n",
       "      <th>1</th>\n",
       "      <td>Afrique du Sud</td>\n",
       "      <td>2.53</td>\n",
       "      <td>6.179128e+16</td>\n",
       "      <td>1.704123e+12</td>\n",
       "      <td>44.048664</td>\n",
       "      <td>1.873238e+09</td>\n",
       "    </tr>\n",
       "    <tr>\n",
       "      <th>2</th>\n",
       "      <td>Albanie</td>\n",
       "      <td>-0.28</td>\n",
       "      <td>3.505918e+15</td>\n",
       "      <td>1.219605e+11</td>\n",
       "      <td>53.854113</td>\n",
       "      <td>1.223400e+07</td>\n",
       "    </tr>\n",
       "    <tr>\n",
       "      <th>3</th>\n",
       "      <td>Algérie</td>\n",
       "      <td>3.63</td>\n",
       "      <td>5.484306e+16</td>\n",
       "      <td>1.427177e+12</td>\n",
       "      <td>26.524994</td>\n",
       "      <td>2.602690e+08</td>\n",
       "    </tr>\n",
       "    <tr>\n",
       "      <th>4</th>\n",
       "      <td>Allemagne</td>\n",
       "      <td>0.46</td>\n",
       "      <td>1.084610e+17</td>\n",
       "      <td>3.176707e+12</td>\n",
       "      <td>60.186163</td>\n",
       "      <td>1.066000e+09</td>\n",
       "    </tr>\n",
       "  </tbody>\n",
       "</table>\n",
       "</div>"
      ],
      "text/plain": [
       "             Zone  diff_pop2019  dispo_alim_cal  dispo_alim_prot  \\\n",
       "0     Afghanistan          4.71    3.153358e+16     7.954906e+11   \n",
       "1  Afrique du Sud          2.53    6.179128e+16     1.704123e+12   \n",
       "2         Albanie         -0.28    3.505918e+15     1.219605e+11   \n",
       "3         Algérie          3.63    5.484306e+16     1.427177e+12   \n",
       "4       Allemagne          0.46    1.084610e+17     3.176707e+12   \n",
       "\n",
       "   prop_prot_animale  prod_volaille  \n",
       "0          18.048525   2.793800e+07  \n",
       "1          44.048664   1.873238e+09  \n",
       "2          53.854113   1.223400e+07  \n",
       "3          26.524994   2.602690e+08  \n",
       "4          60.186163   1.066000e+09  "
      ]
     },
     "execution_count": 309,
     "metadata": {},
     "output_type": "execute_result"
    }
   ],
   "source": [
    "data_filter.head()"
   ]
  },
  {
   "cell_type": "markdown",
   "id": "362970a7",
   "metadata": {},
   "source": [
    "# Réalisation de L'ACP "
   ]
  },
  {
   "cell_type": "code",
   "execution_count": 310,
   "id": "e8acf31d",
   "metadata": {},
   "outputs": [],
   "source": [
    "import pandas as pd\n",
    "import numpy as np\n",
    "from sklearn import decomposition\n",
    "from sklearn import preprocessing"
   ]
  },
  {
   "cell_type": "code",
   "execution_count": 311,
   "id": "ed6861eb",
   "metadata": {},
   "outputs": [],
   "source": [
    "from functions import display_circles, display_scree_plot, display_factorial_planes"
   ]
  },
  {
   "cell_type": "code",
   "execution_count": 312,
   "id": "f2133fa9",
   "metadata": {},
   "outputs": [],
   "source": [
    "# choix du nombre de composantes à calculer\n",
    "n_comp = 3"
   ]
  },
  {
   "cell_type": "code",
   "execution_count": 313,
   "id": "b3eb0592",
   "metadata": {},
   "outputs": [],
   "source": [
    "# selection des colonnes à prendre en compte dans l'ACP\n",
    "data_filter2 = data_filter.copy()"
   ]
  },
  {
   "cell_type": "code",
   "execution_count": 314,
   "id": "7c51f0bc",
   "metadata": {},
   "outputs": [
    {
     "data": {
      "text/html": [
       "<div>\n",
       "<style scoped>\n",
       "    .dataframe tbody tr th:only-of-type {\n",
       "        vertical-align: middle;\n",
       "    }\n",
       "\n",
       "    .dataframe tbody tr th {\n",
       "        vertical-align: top;\n",
       "    }\n",
       "\n",
       "    .dataframe thead th {\n",
       "        text-align: right;\n",
       "    }\n",
       "</style>\n",
       "<table border=\"1\" class=\"dataframe\">\n",
       "  <thead>\n",
       "    <tr style=\"text-align: right;\">\n",
       "      <th></th>\n",
       "      <th>Zone</th>\n",
       "      <th>diff_pop2019</th>\n",
       "      <th>dispo_alim_cal</th>\n",
       "      <th>dispo_alim_prot</th>\n",
       "      <th>prop_prot_animale</th>\n",
       "      <th>prod_volaille</th>\n",
       "    </tr>\n",
       "  </thead>\n",
       "  <tbody>\n",
       "    <tr>\n",
       "      <th>0</th>\n",
       "      <td>Afghanistan</td>\n",
       "      <td>4.71</td>\n",
       "      <td>3.153358e+16</td>\n",
       "      <td>7.954906e+11</td>\n",
       "      <td>18.048525</td>\n",
       "      <td>2.793800e+07</td>\n",
       "    </tr>\n",
       "    <tr>\n",
       "      <th>1</th>\n",
       "      <td>Afrique du Sud</td>\n",
       "      <td>2.53</td>\n",
       "      <td>6.179128e+16</td>\n",
       "      <td>1.704123e+12</td>\n",
       "      <td>44.048664</td>\n",
       "      <td>1.873238e+09</td>\n",
       "    </tr>\n",
       "    <tr>\n",
       "      <th>2</th>\n",
       "      <td>Albanie</td>\n",
       "      <td>-0.28</td>\n",
       "      <td>3.505918e+15</td>\n",
       "      <td>1.219605e+11</td>\n",
       "      <td>53.854113</td>\n",
       "      <td>1.223400e+07</td>\n",
       "    </tr>\n",
       "    <tr>\n",
       "      <th>3</th>\n",
       "      <td>Algérie</td>\n",
       "      <td>3.63</td>\n",
       "      <td>5.484306e+16</td>\n",
       "      <td>1.427177e+12</td>\n",
       "      <td>26.524994</td>\n",
       "      <td>2.602690e+08</td>\n",
       "    </tr>\n",
       "    <tr>\n",
       "      <th>4</th>\n",
       "      <td>Allemagne</td>\n",
       "      <td>0.46</td>\n",
       "      <td>1.084610e+17</td>\n",
       "      <td>3.176707e+12</td>\n",
       "      <td>60.186163</td>\n",
       "      <td>1.066000e+09</td>\n",
       "    </tr>\n",
       "    <tr>\n",
       "      <th>...</th>\n",
       "      <td>...</td>\n",
       "      <td>...</td>\n",
       "      <td>...</td>\n",
       "      <td>...</td>\n",
       "      <td>...</td>\n",
       "      <td>...</td>\n",
       "    </tr>\n",
       "    <tr>\n",
       "      <th>173</th>\n",
       "      <td>Égypte</td>\n",
       "      <td>3.86</td>\n",
       "      <td>1.210639e+17</td>\n",
       "      <td>3.499641e+12</td>\n",
       "      <td>24.761805</td>\n",
       "      <td>1.339068e+09</td>\n",
       "    </tr>\n",
       "    <tr>\n",
       "      <th>174</th>\n",
       "      <td>Équateur</td>\n",
       "      <td>2.96</td>\n",
       "      <td>1.624695e+16</td>\n",
       "      <td>4.061103e+11</td>\n",
       "      <td>51.030606</td>\n",
       "      <td>3.310010e+08</td>\n",
       "    </tr>\n",
       "    <tr>\n",
       "      <th>175</th>\n",
       "      <td>États-Unis d'Amérique</td>\n",
       "      <td>1.17</td>\n",
       "      <td>4.637398e+17</td>\n",
       "      <td>1.380289e+13</td>\n",
       "      <td>66.072050</td>\n",
       "      <td>2.049025e+10</td>\n",
       "    </tr>\n",
       "    <tr>\n",
       "      <th>176</th>\n",
       "      <td>Éthiopie</td>\n",
       "      <td>5.17</td>\n",
       "      <td>9.957210e+16</td>\n",
       "      <td>2.886527e+12</td>\n",
       "      <td>9.084467</td>\n",
       "      <td>6.780300e+07</td>\n",
       "    </tr>\n",
       "    <tr>\n",
       "      <th>177</th>\n",
       "      <td>Îles Salomon</td>\n",
       "      <td>5.07</td>\n",
       "      <td>5.888764e+14</td>\n",
       "      <td>1.292447e+10</td>\n",
       "      <td>29.952696</td>\n",
       "      <td>2.790000e+05</td>\n",
       "    </tr>\n",
       "  </tbody>\n",
       "</table>\n",
       "<p>178 rows × 6 columns</p>\n",
       "</div>"
      ],
      "text/plain": [
       "                      Zone  diff_pop2019  dispo_alim_cal  dispo_alim_prot  \\\n",
       "0              Afghanistan          4.71    3.153358e+16     7.954906e+11   \n",
       "1           Afrique du Sud          2.53    6.179128e+16     1.704123e+12   \n",
       "2                  Albanie         -0.28    3.505918e+15     1.219605e+11   \n",
       "3                  Algérie          3.63    5.484306e+16     1.427177e+12   \n",
       "4                Allemagne          0.46    1.084610e+17     3.176707e+12   \n",
       "..                     ...           ...             ...              ...   \n",
       "173                 Égypte          3.86    1.210639e+17     3.499641e+12   \n",
       "174               Équateur          2.96    1.624695e+16     4.061103e+11   \n",
       "175  États-Unis d'Amérique          1.17    4.637398e+17     1.380289e+13   \n",
       "176               Éthiopie          5.17    9.957210e+16     2.886527e+12   \n",
       "177           Îles Salomon          5.07    5.888764e+14     1.292447e+10   \n",
       "\n",
       "     prop_prot_animale  prod_volaille  \n",
       "0            18.048525   2.793800e+07  \n",
       "1            44.048664   1.873238e+09  \n",
       "2            53.854113   1.223400e+07  \n",
       "3            26.524994   2.602690e+08  \n",
       "4            60.186163   1.066000e+09  \n",
       "..                 ...            ...  \n",
       "173          24.761805   1.339068e+09  \n",
       "174          51.030606   3.310010e+08  \n",
       "175          66.072050   2.049025e+10  \n",
       "176           9.084467   6.780300e+07  \n",
       "177          29.952696   2.790000e+05  \n",
       "\n",
       "[178 rows x 6 columns]"
      ]
     },
     "execution_count": 314,
     "metadata": {},
     "output_type": "execute_result"
    }
   ],
   "source": [
    "data_filter2"
   ]
  },
  {
   "cell_type": "code",
   "execution_count": 376,
   "id": "26ee5ae7",
   "metadata": {},
   "outputs": [
    {
     "data": {
      "text/html": [
       "<div>\n",
       "<style scoped>\n",
       "    .dataframe tbody tr th:only-of-type {\n",
       "        vertical-align: middle;\n",
       "    }\n",
       "\n",
       "    .dataframe tbody tr th {\n",
       "        vertical-align: top;\n",
       "    }\n",
       "\n",
       "    .dataframe thead th {\n",
       "        text-align: right;\n",
       "    }\n",
       "</style>\n",
       "<table border=\"1\" class=\"dataframe\">\n",
       "  <thead>\n",
       "    <tr style=\"text-align: right;\">\n",
       "      <th></th>\n",
       "      <th>Zone</th>\n",
       "      <th>diff_pop2019</th>\n",
       "      <th>dispo_alim_cal</th>\n",
       "      <th>dispo_alim_prot</th>\n",
       "      <th>prop_prot_animale</th>\n",
       "      <th>prod_volaille</th>\n",
       "    </tr>\n",
       "    <tr>\n",
       "      <th>Zone</th>\n",
       "      <th></th>\n",
       "      <th></th>\n",
       "      <th></th>\n",
       "      <th></th>\n",
       "      <th></th>\n",
       "      <th></th>\n",
       "    </tr>\n",
       "  </thead>\n",
       "  <tbody>\n",
       "    <tr>\n",
       "      <th>Afghanistan</th>\n",
       "      <td>Afghanistan</td>\n",
       "      <td>4.71</td>\n",
       "      <td>3.153358e+16</td>\n",
       "      <td>7.954906e+11</td>\n",
       "      <td>18.048525</td>\n",
       "      <td>27938000.0</td>\n",
       "    </tr>\n",
       "    <tr>\n",
       "      <th>Burkina Faso</th>\n",
       "      <td>Burkina Faso</td>\n",
       "      <td>5.79</td>\n",
       "      <td>2.028595e+16</td>\n",
       "      <td>5.944858e+11</td>\n",
       "      <td>13.562071</td>\n",
       "      <td>45297000.0</td>\n",
       "    </tr>\n",
       "    <tr>\n",
       "      <th>Burundi</th>\n",
       "      <td>Burundi</td>\n",
       "      <td>6.28</td>\n",
       "      <td>7.676879e+15</td>\n",
       "      <td>1.825784e+11</td>\n",
       "      <td>7.123098</td>\n",
       "      <td>6653000.0</td>\n",
       "    </tr>\n",
       "    <tr>\n",
       "      <th>Cameroun</th>\n",
       "      <td>Cameroun</td>\n",
       "      <td>5.21</td>\n",
       "      <td>2.617137e+16</td>\n",
       "      <td>6.797379e+11</td>\n",
       "      <td>15.284146</td>\n",
       "      <td>85298000.0</td>\n",
       "    </tr>\n",
       "    <tr>\n",
       "      <th>Djibouti</th>\n",
       "      <td>Djibouti</td>\n",
       "      <td>2.89</td>\n",
       "      <td>9.929394e+14</td>\n",
       "      <td>2.338189e+10</td>\n",
       "      <td>19.781055</td>\n",
       "      <td>70769500.0</td>\n",
       "    </tr>\n",
       "    <tr>\n",
       "      <th>Guinée-Bissau</th>\n",
       "      <td>Guinée-Bissau</td>\n",
       "      <td>4.92</td>\n",
       "      <td>1.563598e+15</td>\n",
       "      <td>3.034642e+10</td>\n",
       "      <td>19.408503</td>\n",
       "      <td>3155000.0</td>\n",
       "    </tr>\n",
       "    <tr>\n",
       "      <th>Niger</th>\n",
       "      <td>Niger</td>\n",
       "      <td>7.81</td>\n",
       "      <td>2.230082e+16</td>\n",
       "      <td>7.214370e+11</td>\n",
       "      <td>12.265597</td>\n",
       "      <td>20103000.0</td>\n",
       "    </tr>\n",
       "    <tr>\n",
       "      <th>Népal</th>\n",
       "      <td>Népal</td>\n",
       "      <td>3.73</td>\n",
       "      <td>3.008422e+16</td>\n",
       "      <td>7.801431e+11</td>\n",
       "      <td>18.110025</td>\n",
       "      <td>65000000.0</td>\n",
       "    </tr>\n",
       "    <tr>\n",
       "      <th>Rwanda</th>\n",
       "      <td>Rwanda</td>\n",
       "      <td>5.14</td>\n",
       "      <td>1.019940e+16</td>\n",
       "      <td>2.711389e+11</td>\n",
       "      <td>14.482407</td>\n",
       "      <td>19336000.0</td>\n",
       "    </tr>\n",
       "    <tr>\n",
       "      <th>République démocratique du Congo</th>\n",
       "      <td>République démocratique du Congo</td>\n",
       "      <td>6.44</td>\n",
       "      <td>6.056970e+16</td>\n",
       "      <td>8.198451e+11</td>\n",
       "      <td>12.403400</td>\n",
       "      <td>10406000.0</td>\n",
       "    </tr>\n",
       "    <tr>\n",
       "      <th>République populaire démocratique de Corée</th>\n",
       "      <td>République populaire démocratique de Corée</td>\n",
       "      <td>0.86</td>\n",
       "      <td>1.959804e+16</td>\n",
       "      <td>5.154323e+11</td>\n",
       "      <td>18.575064</td>\n",
       "      <td>31687000.0</td>\n",
       "    </tr>\n",
       "    <tr>\n",
       "      <th>République-Unie de Tanzanie</th>\n",
       "      <td>République-Unie de Tanzanie</td>\n",
       "      <td>6.02</td>\n",
       "      <td>5.028308e+16</td>\n",
       "      <td>1.272003e+12</td>\n",
       "      <td>18.974700</td>\n",
       "      <td>86626000.0</td>\n",
       "    </tr>\n",
       "    <tr>\n",
       "      <th>Togo</th>\n",
       "      <td>Togo</td>\n",
       "      <td>4.90</td>\n",
       "      <td>7.271577e+15</td>\n",
       "      <td>1.674085e+11</td>\n",
       "      <td>17.057269</td>\n",
       "      <td>43447000.0</td>\n",
       "    </tr>\n",
       "    <tr>\n",
       "      <th>Éthiopie</th>\n",
       "      <td>Éthiopie</td>\n",
       "      <td>5.17</td>\n",
       "      <td>9.957210e+16</td>\n",
       "      <td>2.886527e+12</td>\n",
       "      <td>9.084467</td>\n",
       "      <td>67803000.0</td>\n",
       "    </tr>\n",
       "  </tbody>\n",
       "</table>\n",
       "</div>"
      ],
      "text/plain": [
       "                                                                                  Zone  \\\n",
       "Zone                                                                                     \n",
       "Afghanistan                                                                Afghanistan   \n",
       "Burkina Faso                                                              Burkina Faso   \n",
       "Burundi                                                                        Burundi   \n",
       "Cameroun                                                                      Cameroun   \n",
       "Djibouti                                                                      Djibouti   \n",
       "Guinée-Bissau                                                            Guinée-Bissau   \n",
       "Niger                                                                            Niger   \n",
       "Népal                                                                            Népal   \n",
       "Rwanda                                                                          Rwanda   \n",
       "République démocratique du Congo                      République démocratique du Congo   \n",
       "République populaire démocratique de Corée  République populaire démocratique de Corée   \n",
       "République-Unie de Tanzanie                                République-Unie de Tanzanie   \n",
       "Togo                                                                              Togo   \n",
       "Éthiopie                                                                      Éthiopie   \n",
       "\n",
       "                                            diff_pop2019  dispo_alim_cal  \\\n",
       "Zone                                                                       \n",
       "Afghanistan                                         4.71    3.153358e+16   \n",
       "Burkina Faso                                        5.79    2.028595e+16   \n",
       "Burundi                                             6.28    7.676879e+15   \n",
       "Cameroun                                            5.21    2.617137e+16   \n",
       "Djibouti                                            2.89    9.929394e+14   \n",
       "Guinée-Bissau                                       4.92    1.563598e+15   \n",
       "Niger                                               7.81    2.230082e+16   \n",
       "Népal                                               3.73    3.008422e+16   \n",
       "Rwanda                                              5.14    1.019940e+16   \n",
       "République démocratique du Congo                    6.44    6.056970e+16   \n",
       "République populaire démocratique de Corée          0.86    1.959804e+16   \n",
       "République-Unie de Tanzanie                         6.02    5.028308e+16   \n",
       "Togo                                                4.90    7.271577e+15   \n",
       "Éthiopie                                            5.17    9.957210e+16   \n",
       "\n",
       "                                            dispo_alim_prot  \\\n",
       "Zone                                                          \n",
       "Afghanistan                                    7.954906e+11   \n",
       "Burkina Faso                                   5.944858e+11   \n",
       "Burundi                                        1.825784e+11   \n",
       "Cameroun                                       6.797379e+11   \n",
       "Djibouti                                       2.338189e+10   \n",
       "Guinée-Bissau                                  3.034642e+10   \n",
       "Niger                                          7.214370e+11   \n",
       "Népal                                          7.801431e+11   \n",
       "Rwanda                                         2.711389e+11   \n",
       "République démocratique du Congo               8.198451e+11   \n",
       "République populaire démocratique de Corée     5.154323e+11   \n",
       "République-Unie de Tanzanie                    1.272003e+12   \n",
       "Togo                                           1.674085e+11   \n",
       "Éthiopie                                       2.886527e+12   \n",
       "\n",
       "                                            prop_prot_animale  prod_volaille  \n",
       "Zone                                                                          \n",
       "Afghanistan                                         18.048525     27938000.0  \n",
       "Burkina Faso                                        13.562071     45297000.0  \n",
       "Burundi                                              7.123098      6653000.0  \n",
       "Cameroun                                            15.284146     85298000.0  \n",
       "Djibouti                                            19.781055     70769500.0  \n",
       "Guinée-Bissau                                       19.408503      3155000.0  \n",
       "Niger                                               12.265597     20103000.0  \n",
       "Népal                                               18.110025     65000000.0  \n",
       "Rwanda                                              14.482407     19336000.0  \n",
       "République démocratique du Congo                    12.403400     10406000.0  \n",
       "République populaire démocratique de Corée          18.575064     31687000.0  \n",
       "République-Unie de Tanzanie                         18.974700     86626000.0  \n",
       "Togo                                                17.057269     43447000.0  \n",
       "Éthiopie                                             9.084467     67803000.0  "
      ]
     },
     "execution_count": 376,
     "metadata": {},
     "output_type": "execute_result"
    }
   ],
   "source": [
    "data_filter2.loc[(data_filter2['prop_prot_animale'] < 20)&(data_filter2['prod_volaille'] < 1.0e+8),:]"
   ]
  },
  {
   "cell_type": "code",
   "execution_count": 437,
   "id": "5976a15a",
   "metadata": {
    "scrolled": false
   },
   "outputs": [],
   "source": [
    "# préparation des données pour l'ACP\n",
    "data_filter2 = data_filter2.fillna(data_filter2.median()) # Il est fréquent de remplacer les valeurs inconnues par la mediane de la variable\n",
    "data_filter2.index=data_filter2.Zone\n",
    "X= data_filter2.drop(['Zone'],axis=1)\n",
    "X= X.values\n",
    "names = data_filter2.index # ou data.index pour avoir les intitulés\n",
    "features = data_filter2.columns[1:]"
   ]
  },
  {
   "cell_type": "code",
   "execution_count": 379,
   "id": "806972dc",
   "metadata": {},
   "outputs": [
    {
     "data": {
      "text/plain": [
       "Index(['diff_pop2019', 'dispo_alim_cal', 'dispo_alim_prot',\n",
       "       'prop_prot_animale', 'prod_volaille'],\n",
       "      dtype='object')"
      ]
     },
     "execution_count": 379,
     "metadata": {},
     "output_type": "execute_result"
    }
   ],
   "source": [
    "features"
   ]
  },
  {
   "cell_type": "code",
   "execution_count": 380,
   "id": "77fc1320",
   "metadata": {},
   "outputs": [],
   "source": [
    "# Centrage et Réduction\n",
    "std_scale = preprocessing.StandardScaler().fit(X)\n",
    "X_scaled = std_scale.transform(X)"
   ]
  },
  {
   "cell_type": "code",
   "execution_count": 381,
   "id": "19704e61",
   "metadata": {},
   "outputs": [
    {
     "data": {
      "text/plain": [
       "PCA(n_components=3)"
      ]
     },
     "execution_count": 381,
     "metadata": {},
     "output_type": "execute_result"
    }
   ],
   "source": [
    "# Calcul des composantes principales\n",
    "acp = decomposition.PCA(n_components=n_comp)\n",
    "acp.fit(X_scaled)"
   ]
  },
  {
   "cell_type": "code",
   "execution_count": 382,
   "id": "1305ac03",
   "metadata": {},
   "outputs": [
    {
     "data": {
      "image/png": "[encoded data removed]",
      "text/plain": [
       "<Figure size 648x720 with 1 Axes>"
      ]
     },
     "metadata": {},
     "output_type": "display_data"
    }
   ],
   "source": [
    "# Eboulis des valeurs propres\n",
    "display_scree_plot(acp)"
   ]
  },
  {
   "cell_type": "code",
   "execution_count": 383,
   "id": "a0d2448b",
   "metadata": {},
   "outputs": [],
   "source": [
    "#Selon le pourcentage d'inertie, on peut choisir comme nombre de composants : 3 "
   ]
  },
  {
   "cell_type": "code",
   "execution_count": 384,
   "id": "e01d9f33",
   "metadata": {},
   "outputs": [
    {
     "data": {
      "text/plain": [
       "PCA(n_components=3)"
      ]
     },
     "execution_count": 384,
     "metadata": {},
     "output_type": "execute_result"
    }
   ],
   "source": [
    "# Calcul des composantes principales\n",
    "acp = decomposition.PCA(n_components=3)\n",
    "acp.fit(X_scaled)"
   ]
  },
  {
   "cell_type": "code",
   "execution_count": 385,
   "id": "19a19bcd",
   "metadata": {},
   "outputs": [],
   "source": [
    "# Cercle des corrélations\n",
    "pcs = acp.components_"
   ]
  },
  {
   "cell_type": "code",
   "execution_count": 386,
   "id": "e869503d",
   "metadata": {},
   "outputs": [
    {
     "data": {
      "image/png": "[encoded data removed]",
      "text/plain": [
       "<Figure size 504x432 with 1 Axes>"
      ]
     },
     "metadata": {},
     "output_type": "display_data"
    },
    {
     "data": {
      "image/png": "[encoded data removed]",
      "text/plain": [
       "<Figure size 504x432 with 1 Axes>"
      ]
     },
     "metadata": {},
     "output_type": "display_data"
    },
    {
     "data": {
      "image/png": "[encoded data removed]",
      "text/plain": [
       "<Figure size 504x432 with 1 Axes>"
      ]
     },
     "metadata": {},
     "output_type": "display_data"
    }
   ],
   "source": [
    "display_circles(pcs, n_comp, acp, [(0,1),(0,2),(1,2)], labels = np.array(features))"
   ]
  },
  {
   "cell_type": "code",
   "execution_count": 387,
   "id": "8f3f08ed",
   "metadata": {},
   "outputs": [
    {
     "data": {
      "image/png": "[encoded data removed]",
      "text/plain": [
       "<Figure size 504x432 with 1 Axes>"
      ]
     },
     "metadata": {},
     "output_type": "display_data"
    },
    {
     "data": {
      "image/png": "[encoded data removed]",
      "text/plain": [
       "<Figure size 504x432 with 1 Axes>"
      ]
     },
     "metadata": {},
     "output_type": "display_data"
    },
    {
     "data": {
      "image/png": "[encoded data removed]",
      "text/plain": [
       "<Figure size 504x432 with 1 Axes>"
      ]
     },
     "metadata": {},
     "output_type": "display_data"
    }
   ],
   "source": [
    "# Projection des individus\n",
    "X_projected = acp.transform(X_scaled)\n",
    "display_factorial_planes(X_projected, n_comp, acp, [(0,1),(0,2),(1,2)], labels = np.array(names))\n",
    "\n",
    "plt.show()"
   ]
  },
  {
   "cell_type": "markdown",
   "id": "3df81716",
   "metadata": {},
   "source": [
    "# Réalisation du dendrogramme"
   ]
  },
  {
   "cell_type": "code",
   "execution_count": 388,
   "id": "b31eb4f4",
   "metadata": {},
   "outputs": [],
   "source": [
    "from functions import *"
   ]
  },
  {
   "cell_type": "code",
   "execution_count": 389,
   "id": "f09e8a2b",
   "metadata": {},
   "outputs": [],
   "source": [
    "import pandas as pd\n",
    "from functions import plot_dendrogram\n",
    "from scipy.cluster.hierarchy import linkage, fcluster\n",
    "from sklearn import preprocessing"
   ]
  },
  {
   "cell_type": "code",
   "execution_count": 390,
   "id": "fc84e739",
   "metadata": {},
   "outputs": [],
   "source": [
    "# data_filter.index=data_filter.Zone"
   ]
  },
  {
   "cell_type": "code",
   "execution_count": 391,
   "id": "366110b8",
   "metadata": {},
   "outputs": [],
   "source": [
    "# data_filter=data_filter.drop('Zone', axis=1)"
   ]
  },
  {
   "cell_type": "code",
   "execution_count": 392,
   "id": "101f4b57",
   "metadata": {},
   "outputs": [],
   "source": [
    "# préparation des données pour le clustering\n",
    "# X = data_filter.values\n",
    "# names = data_filter.index"
   ]
  },
  {
   "cell_type": "code",
   "execution_count": 393,
   "id": "c7219c27",
   "metadata": {},
   "outputs": [],
   "source": [
    "# Centrage et Réduction\n",
    "# std_scale = preprocessing.StandardScaler().fit(X)\n",
    "# X_scaled = std_scale.transform(X)"
   ]
  },
  {
   "cell_type": "code",
   "execution_count": 394,
   "id": "fcdabb60",
   "metadata": {},
   "outputs": [],
   "source": [
    "# Clustering hiérarchique\n",
    "Z = linkage(X_scaled, 'ward')"
   ]
  },
  {
   "cell_type": "code",
   "execution_count": 395,
   "id": "c6643bc3",
   "metadata": {},
   "outputs": [],
   "source": [
    "clusters = fcluster(Z, 5, criterion='maxclust')"
   ]
  },
  {
   "cell_type": "code",
   "execution_count": 396,
   "id": "e27d3c3e",
   "metadata": {},
   "outputs": [
    {
     "data": {
      "text/plain": [
       "array([3, 5, 4, 5, 4, 3, 4, 5, 4, 4, 4, 4, 5, 4, 3, 4, 4, 5, 5, 4, 5, 1,\n",
       "       4, 3, 3, 4, 3, 5, 5, 3, 5, 4, 2, 4, 4, 4, 4, 5, 3, 5, 4, 4, 4, 3,\n",
       "       4, 5, 4, 5, 4, 4, 5, 4, 4, 4, 5, 5, 3, 3, 4, 4, 3, 3, 3, 4, 4, 5,\n",
       "       3, 4, 2, 5, 5, 3, 4, 4, 4, 4, 4, 4, 5, 4, 3, 5, 5, 5, 5, 4, 4, 5,\n",
       "       3, 4, 4, 4, 3, 5, 3, 4, 3, 4, 5, 4, 3, 5, 4, 4, 3, 5, 3, 5, 3, 3,\n",
       "       4, 4, 4, 3, 5, 3, 5, 5, 5, 5, 5, 4, 5, 4, 4, 4, 5, 4, 4, 3, 3, 5,\n",
       "       4, 4, 4, 3, 5, 5, 3, 4, 4, 4, 4, 3, 4, 4, 3, 4, 4, 3, 5, 4, 4, 4,\n",
       "       3, 3, 3, 4, 5, 3, 3, 4, 5, 5, 5, 4, 4, 5, 4, 5, 3, 3, 5, 3, 5, 1,\n",
       "       3, 3], dtype=int32)"
      ]
     },
     "execution_count": 396,
     "metadata": {},
     "output_type": "execute_result"
    }
   ],
   "source": [
    "clusters"
   ]
  },
  {
   "cell_type": "code",
   "execution_count": 397,
   "id": "caf7264c",
   "metadata": {},
   "outputs": [],
   "source": [
    "def plot_dendrogram(Z, names):\n",
    "    plt.figure(figsize=(5,10))\n",
    "    plt.title('Hierarchical Clustering Dendrogram')\n",
    "    plt.xlabel('distance')\n",
    "    dendrogram(\n",
    "        Z,\n",
    "        labels = names,\n",
    "        orientation = \"left\"\n",
    "    )\n",
    "    plt.axvline(x=7.5, c='k')\n",
    "    plt.show()"
   ]
  },
  {
   "cell_type": "code",
   "execution_count": 398,
   "id": "e3401317",
   "metadata": {},
   "outputs": [
    {
     "data": {
      "text/plain": [
       "Index(['Afghanistan', 'Afrique du Sud', 'Albanie', 'Algérie', 'Allemagne',\n",
       "       'Angola', 'Antigua-et-Barbuda', 'Arabie saoudite', 'Argentine',\n",
       "       'Arménie',\n",
       "       ...\n",
       "       'Venezuela (République bolivarienne du)', 'Viet Nam', 'Yémen', 'Zambie',\n",
       "       'Zimbabwe', 'Égypte', 'Équateur', 'États-Unis d'Amérique', 'Éthiopie',\n",
       "       'Îles Salomon'],\n",
       "      dtype='object', name='Zone', length=178)"
      ]
     },
     "execution_count": 398,
     "metadata": {},
     "output_type": "execute_result"
    }
   ],
   "source": [
    "names"
   ]
  },
  {
   "cell_type": "code",
   "execution_count": 399,
   "id": "a9816f9a",
   "metadata": {},
   "outputs": [
    {
     "data": {
      "image/png": "[encoded data removed]",
      "text/plain": [
       "<Figure size 360x720 with 1 Axes>"
      ]
     },
     "metadata": {},
     "output_type": "display_data"
    }
   ],
   "source": [
    "plot_dendrogram(Z, names)"
   ]
  },
  {
   "cell_type": "code",
   "execution_count": 400,
   "id": "e0850827",
   "metadata": {},
   "outputs": [
    {
     "data": {
      "text/html": [
       "<div>\n",
       "<style scoped>\n",
       "    .dataframe tbody tr th:only-of-type {\n",
       "        vertical-align: middle;\n",
       "    }\n",
       "\n",
       "    .dataframe tbody tr th {\n",
       "        vertical-align: top;\n",
       "    }\n",
       "\n",
       "    .dataframe thead th {\n",
       "        text-align: right;\n",
       "    }\n",
       "</style>\n",
       "<table border=\"1\" class=\"dataframe\">\n",
       "  <thead>\n",
       "    <tr style=\"text-align: right;\">\n",
       "      <th></th>\n",
       "      <th>cluster</th>\n",
       "      <th>pays</th>\n",
       "    </tr>\n",
       "  </thead>\n",
       "  <tbody>\n",
       "    <tr>\n",
       "      <th>175</th>\n",
       "      <td>1</td>\n",
       "      <td>États-Unis d'Amérique</td>\n",
       "    </tr>\n",
       "    <tr>\n",
       "      <th>21</th>\n",
       "      <td>1</td>\n",
       "      <td>Brésil</td>\n",
       "    </tr>\n",
       "    <tr>\n",
       "      <th>32</th>\n",
       "      <td>2</td>\n",
       "      <td>Chine</td>\n",
       "    </tr>\n",
       "    <tr>\n",
       "      <th>68</th>\n",
       "      <td>2</td>\n",
       "      <td>Inde</td>\n",
       "    </tr>\n",
       "    <tr>\n",
       "      <th>0</th>\n",
       "      <td>3</td>\n",
       "      <td>Afghanistan</td>\n",
       "    </tr>\n",
       "    <tr>\n",
       "      <th>...</th>\n",
       "      <td>...</td>\n",
       "      <td>...</td>\n",
       "    </tr>\n",
       "    <tr>\n",
       "      <th>69</th>\n",
       "      <td>5</td>\n",
       "      <td>Indonésie</td>\n",
       "    </tr>\n",
       "    <tr>\n",
       "      <th>93</th>\n",
       "      <td>5</td>\n",
       "      <td>Malaisie</td>\n",
       "    </tr>\n",
       "    <tr>\n",
       "      <th>137</th>\n",
       "      <td>5</td>\n",
       "      <td>République populaire démocratique de Corée</td>\n",
       "    </tr>\n",
       "    <tr>\n",
       "      <th>116</th>\n",
       "      <td>5</td>\n",
       "      <td>Ouzbékistan</td>\n",
       "    </tr>\n",
       "    <tr>\n",
       "      <th>136</th>\n",
       "      <td>5</td>\n",
       "      <td>République démocratique populaire lao</td>\n",
       "    </tr>\n",
       "  </tbody>\n",
       "</table>\n",
       "<p>178 rows × 2 columns</p>\n",
       "</div>"
      ],
      "text/plain": [
       "     cluster                                        pays\n",
       "175        1                       États-Unis d'Amérique\n",
       "21         1                                      Brésil\n",
       "32         2                                       Chine\n",
       "68         2                                        Inde\n",
       "0          3                                 Afghanistan\n",
       "..       ...                                         ...\n",
       "69         5                                   Indonésie\n",
       "93         5                                    Malaisie\n",
       "137        5  République populaire démocratique de Corée\n",
       "116        5                                 Ouzbékistan\n",
       "136        5       République démocratique populaire lao\n",
       "\n",
       "[178 rows x 2 columns]"
      ]
     },
     "execution_count": 400,
     "metadata": {},
     "output_type": "execute_result"
    }
   ],
   "source": [
    "# Coupage du dendrogramme en 5 clusters\n",
    "#clusters = fcluster(Z, 5, criterion='maxclust')\n",
    "#clusters = fcluster(Z, 159, criterion='distance') # ligne équivalente à la précédente\n",
    "\n",
    "# Comparaison des clusters \n",
    "groupes = pd.DataFrame({\"cluster\": clusters, \"pays\": names})\n",
    "#print(groupes)\n",
    "groupes.sort_values(by=['cluster'])\n"
   ]
  },
  {
   "cell_type": "code",
   "execution_count": 401,
   "id": "b3d8c01e",
   "metadata": {},
   "outputs": [
    {
     "data": {
      "image/png": "[encoded data removed]",
      "text/plain": [
       "<Figure size 504x432 with 1 Axes>"
      ]
     },
     "metadata": {},
     "output_type": "display_data"
    }
   ],
   "source": [
    "# Transform the scaled data to the new PCA space\n",
    "X_reduced = acp.transform(X_scaled)\n",
    "display_factorial_planes(X_reduced, 5, acp, [(1,2)], illustrative_var = clusters, alpha = 0.8)"
   ]
  },
  {
   "cell_type": "code",
   "execution_count": 402,
   "id": "4956b37a",
   "metadata": {},
   "outputs": [
    {
     "data": {
      "text/plain": [
       "array([[9.20000000e+01, 9.40000000e+01, 3.73410228e-02, 2.00000000e+00],\n",
       "       [9.00000000e+00, 1.50000000e+01, 4.33873779e-02, 2.00000000e+00],\n",
       "       [3.90000000e+01, 1.14000000e+02, 5.56839361e-02, 2.00000000e+00],\n",
       "       [5.80000000e+01, 1.41000000e+02, 5.68386302e-02, 2.00000000e+00],\n",
       "       [4.60000000e+01, 1.79000000e+02, 5.73883192e-02, 3.00000000e+00],\n",
       "       [1.47000000e+02, 1.48000000e+02, 5.98957795e-02, 2.00000000e+00],\n",
       "       [2.60000000e+01, 1.78000000e+02, 6.72315440e-02, 3.00000000e+00],\n",
       "       [1.90000000e+01, 8.60000000e+01, 7.41765492e-02, 2.00000000e+00],\n",
       "       [1.40000000e+02, 1.82000000e+02, 8.05448404e-02, 4.00000000e+00],\n",
       "       [9.60000000e+01, 1.71000000e+02, 8.27946491e-02, 2.00000000e+00],\n",
       "       [4.00000000e+01, 1.12000000e+02, 8.45537102e-02, 2.00000000e+00],\n",
       "       [8.20000000e+01, 8.30000000e+01, 8.46076456e-02, 2.00000000e+00],\n",
       "       [5.50000000e+01, 1.80000000e+02, 8.59896632e-02, 3.00000000e+00],\n",
       "       [9.70000000e+01, 1.81000000e+02, 9.21423464e-02, 3.00000000e+00],\n",
       "       [8.70000000e+01, 1.20000000e+02, 9.36834012e-02, 2.00000000e+00],\n",
       "       [6.10000000e+01, 1.84000000e+02, 9.47628365e-02, 4.00000000e+00],\n",
       "       [6.00000000e+00, 1.30000000e+01, 9.65039989e-02, 2.00000000e+00],\n",
       "       [3.80000000e+01, 1.55000000e+02, 1.00334665e-01, 2.00000000e+00],\n",
       "       [1.51000000e+02, 1.53000000e+02, 1.07697367e-01, 2.00000000e+00],\n",
       "       [1.11000000e+02, 1.88000000e+02, 1.08552635e-01, 3.00000000e+00],\n",
       "       [1.46000000e+02, 1.59000000e+02, 1.14147304e-01, 2.00000000e+00],\n",
       "       [2.00000000e+00, 1.83000000e+02, 1.23919778e-01, 3.00000000e+00],\n",
       "       [7.20000000e+01, 1.97000000e+02, 1.31098086e-01, 4.00000000e+00],\n",
       "       [2.30000000e+01, 1.04000000e+02, 1.31187666e-01, 2.00000000e+00],\n",
       "       [1.24000000e+02, 1.96000000e+02, 1.33158402e-01, 3.00000000e+00],\n",
       "       [1.54000000e+02, 1.93000000e+02, 1.33365812e-01, 5.00000000e+00],\n",
       "       [8.10000000e+01, 1.63000000e+02, 1.38090266e-01, 2.00000000e+00],\n",
       "       [5.20000000e+01, 1.57000000e+02, 1.38239876e-01, 2.00000000e+00],\n",
       "       [2.80000000e+01, 1.72000000e+02, 1.39338741e-01, 2.00000000e+00],\n",
       "       [2.90000000e+01, 1.29000000e+02, 1.39762872e-01, 2.00000000e+00],\n",
       "       [4.20000000e+01, 6.40000000e+01, 1.44350716e-01, 2.00000000e+00],\n",
       "       [1.10000000e+01, 1.91000000e+02, 1.49890432e-01, 4.00000000e+00],\n",
       "       [1.45000000e+02, 1.61000000e+02, 1.51234607e-01, 2.00000000e+00],\n",
       "       [8.00000000e+01, 1.49000000e+02, 1.52214091e-01, 2.00000000e+00],\n",
       "       [1.07000000e+02, 1.62000000e+02, 1.53601212e-01, 2.00000000e+00],\n",
       "       [6.20000000e+01, 1.60000000e+02, 1.53642226e-01, 2.00000000e+00],\n",
       "       [5.00000000e+01, 2.12000000e+02, 1.54257420e-01, 3.00000000e+00],\n",
       "       [1.66000000e+02, 2.10000000e+02, 1.56786198e-01, 3.00000000e+00],\n",
       "       [1.10000000e+02, 2.00000000e+02, 1.59163080e-01, 5.00000000e+00],\n",
       "       [1.03000000e+02, 2.05000000e+02, 1.60015883e-01, 3.00000000e+00],\n",
       "       [9.10000000e+01, 2.08000000e+02, 1.63813154e-01, 3.00000000e+00],\n",
       "       [8.50000000e+01, 8.90000000e+01, 1.72467757e-01, 2.00000000e+00],\n",
       "       [1.06000000e+02, 1.43000000e+02, 1.72496487e-01, 2.00000000e+00],\n",
       "       [1.42000000e+02, 2.16000000e+02, 1.72543416e-01, 6.00000000e+00],\n",
       "       [5.10000000e+01, 1.52000000e+02, 1.79223760e-01, 2.00000000e+00],\n",
       "       [2.20000000e+01, 1.27000000e+02, 1.81598408e-01, 2.00000000e+00],\n",
       "       [1.86000000e+02, 1.99000000e+02, 1.85971618e-01, 7.00000000e+00],\n",
       "       [5.00000000e+00, 1.30000000e+02, 1.88158543e-01, 2.00000000e+00],\n",
       "       [1.20000000e+01, 2.70000000e+01, 1.90568260e-01, 2.00000000e+00],\n",
       "       [1.74000000e+02, 1.89000000e+02, 1.95783857e-01, 3.00000000e+00],\n",
       "       [3.30000000e+01, 7.30000000e+01, 1.96151292e-01, 2.00000000e+00],\n",
       "       [0.00000000e+00, 1.70000000e+02, 1.97821749e-01, 2.00000000e+00],\n",
       "       [6.50000000e+01, 1.36000000e+02, 1.99606314e-01, 2.00000000e+00],\n",
       "       [1.39000000e+02, 2.02000000e+02, 2.01685346e-01, 4.00000000e+00],\n",
       "       [4.00000000e+00, 5.30000000e+01, 2.04145200e-01, 2.00000000e+00],\n",
       "       [1.44000000e+02, 2.23000000e+02, 2.04187629e-01, 3.00000000e+00],\n",
       "       [1.80000000e+01, 2.27000000e+02, 2.05284198e-01, 4.00000000e+00],\n",
       "       [4.90000000e+01, 2.17000000e+02, 2.07484712e-01, 4.00000000e+00],\n",
       "       [4.30000000e+01, 8.80000000e+01, 2.08685154e-01, 2.00000000e+00],\n",
       "       [3.60000000e+01, 7.60000000e+01, 2.09035145e-01, 2.00000000e+00],\n",
       "       [1.15000000e+02, 1.87000000e+02, 2.09509851e-01, 3.00000000e+00],\n",
       "       [2.50000000e+01, 6.70000000e+01, 2.13338270e-01, 2.00000000e+00],\n",
       "       [1.33000000e+02, 2.18000000e+02, 2.13694091e-01, 4.00000000e+00],\n",
       "       [3.40000000e+01, 9.00000000e+01, 2.16193717e-01, 2.00000000e+00],\n",
       "       [1.31000000e+02, 2.04000000e+02, 2.17442162e-01, 3.00000000e+00],\n",
       "       [2.13000000e+02, 2.29000000e+02, 2.18326717e-01, 4.00000000e+00],\n",
       "       [6.00000000e+01, 2.20000000e+02, 2.20658658e-01, 3.00000000e+00],\n",
       "       [4.10000000e+01, 5.90000000e+01, 2.23915337e-01, 2.00000000e+00],\n",
       "       [5.70000000e+01, 2.11000000e+02, 2.26518181e-01, 3.00000000e+00],\n",
       "       [6.60000000e+01, 2.44000000e+02, 2.30662893e-01, 4.00000000e+00],\n",
       "       [7.50000000e+01, 1.32000000e+02, 2.31587646e-01, 2.00000000e+00],\n",
       "       [9.50000000e+01, 1.94000000e+02, 2.33854221e-01, 3.00000000e+00],\n",
       "       [8.40000000e+01, 2.14000000e+02, 2.36522705e-01, 4.00000000e+00],\n",
       "       [1.60000000e+01, 2.09000000e+02, 2.39860479e-01, 5.00000000e+00],\n",
       "       [7.80000000e+01, 2.26000000e+02, 2.47437617e-01, 3.00000000e+00],\n",
       "       [2.15000000e+02, 2.37000000e+02, 2.48892645e-01, 5.00000000e+00],\n",
       "       [6.30000000e+01, 1.68000000e+02, 2.53161981e-01, 2.00000000e+00],\n",
       "       [2.24000000e+02, 2.39000000e+02, 2.56226863e-01, 9.00000000e+00],\n",
       "       [4.50000000e+01, 2.30000000e+02, 2.59244628e-01, 3.00000000e+00],\n",
       "       [2.01000000e+02, 2.07000000e+02, 2.65137382e-01, 4.00000000e+00],\n",
       "       [2.36000000e+02, 2.46000000e+02, 2.66417508e-01, 5.00000000e+00],\n",
       "       [1.77000000e+02, 1.95000000e+02, 2.69499165e-01, 3.00000000e+00],\n",
       "       [1.34000000e+02, 2.22000000e+02, 2.74666221e-01, 3.00000000e+00],\n",
       "       [2.03000000e+02, 2.38000000e+02, 2.74926636e-01, 8.00000000e+00],\n",
       "       [1.92000000e+02, 2.52000000e+02, 2.82192871e-01, 5.00000000e+00],\n",
       "       [4.40000000e+01, 2.31000000e+02, 2.83500435e-01, 5.00000000e+00],\n",
       "       [1.18000000e+02, 1.19000000e+02, 2.94609217e-01, 2.00000000e+00],\n",
       "       [3.00000000e+01, 3.70000000e+01, 2.99552047e-01, 2.00000000e+00],\n",
       "       [1.00000000e+02, 1.56000000e+02, 3.00085045e-01, 2.00000000e+00],\n",
       "       [2.35000000e+02, 2.51000000e+02, 3.07785797e-01, 9.00000000e+00],\n",
       "       [2.00000000e+01, 2.47000000e+02, 3.08517750e-01, 5.00000000e+00],\n",
       "       [1.70000000e+01, 2.42000000e+02, 3.11453362e-01, 4.00000000e+00],\n",
       "       [7.40000000e+01, 2.41000000e+02, 3.19202770e-01, 3.00000000e+00],\n",
       "       [1.38000000e+02, 2.61000000e+02, 3.20983564e-01, 9.00000000e+00],\n",
       "       [1.25000000e+02, 2.45000000e+02, 3.35698238e-01, 3.00000000e+00],\n",
       "       [1.13000000e+02, 1.98000000e+02, 3.40946180e-01, 3.00000000e+00],\n",
       "       [2.43000000e+02, 2.73000000e+02, 3.37799217e-01, 7.00000000e+00],\n",
       "       [9.90000000e+01, 2.53000000e+02, 3.44015150e-01, 6.00000000e+00],\n",
       "       [7.90000000e+01, 2.21000000e+02, 3.46479513e-01, 7.00000000e+00],\n",
       "       [9.30000000e+01, 2.65000000e+02, 3.48208845e-01, 3.00000000e+00],\n",
       "       [2.63000000e+02, 2.67000000e+02, 3.48879344e-01, 1.40000000e+01],\n",
       "       [2.06000000e+02, 2.50000000e+02, 3.51014242e-01, 6.00000000e+00],\n",
       "       [3.50000000e+01, 2.55000000e+02, 3.54622344e-01, 1.00000000e+01],\n",
       "       [1.00000000e+00, 1.26000000e+02, 3.57591840e-01, 2.00000000e+00],\n",
       "       [1.16000000e+02, 2.69000000e+02, 3.71239464e-01, 5.00000000e+00],\n",
       "       [2.75000000e+02, 2.80000000e+02, 3.72485509e-01, 1.60000000e+01],\n",
       "       [2.58000000e+02, 2.74000000e+02, 3.75066667e-01, 1.20000000e+01],\n",
       "       [2.49000000e+02, 2.76000000e+02, 3.77864783e-01, 1.00000000e+01],\n",
       "       [5.60000000e+01, 2.25000000e+02, 3.90729406e-01, 3.00000000e+00],\n",
       "       [2.59000000e+02, 2.68000000e+02, 4.02083610e-01, 8.00000000e+00],\n",
       "       [1.22000000e+02, 1.69000000e+02, 4.02719546e-01, 2.00000000e+00],\n",
       "       [4.80000000e+01, 1.21000000e+02, 4.11023149e-01, 2.00000000e+00],\n",
       "       [2.56000000e+02, 2.79000000e+02, 4.33034651e-01, 9.00000000e+00],\n",
       "       [2.57000000e+02, 2.71000000e+02, 4.33225518e-01, 1.30000000e+01],\n",
       "       [2.34000000e+02, 2.60000000e+02, 4.36545269e-01, 7.00000000e+00],\n",
       "       [2.40000000e+02, 2.54000000e+02, 4.40677245e-01, 6.00000000e+00],\n",
       "       [1.67000000e+02, 1.90000000e+02, 4.48817738e-01, 4.00000000e+00],\n",
       "       [1.28000000e+02, 2.32000000e+02, 4.54952458e-01, 3.00000000e+00],\n",
       "       [2.48000000e+02, 2.95000000e+02, 4.49002251e-01, 5.00000000e+00],\n",
       "       [2.64000000e+02, 2.70000000e+02, 4.56133146e-01, 5.00000000e+00],\n",
       "       [2.84000000e+02, 2.91000000e+02, 4.60606666e-01, 2.50000000e+01],\n",
       "       [4.70000000e+01, 2.62000000e+02, 4.60999093e-01, 6.00000000e+00],\n",
       "       [2.40000000e+01, 1.35000000e+02, 4.73526003e-01, 2.00000000e+00],\n",
       "       [9.80000000e+01, 2.90000000e+02, 4.73616279e-01, 1.00000000e+01],\n",
       "       [2.78000000e+02, 2.85000000e+02, 4.80404378e-01, 2.40000000e+01],\n",
       "       [7.00000000e+01, 1.64000000e+02, 4.80508770e-01, 2.00000000e+00],\n",
       "       [1.05000000e+02, 1.58000000e+02, 4.80639148e-01, 2.00000000e+00],\n",
       "       [7.00000000e+00, 2.82000000e+02, 4.82253637e-01, 6.00000000e+00],\n",
       "       [3.10000000e+01, 2.77000000e+02, 4.95145220e-01, 4.00000000e+00],\n",
       "       [2.66000000e+02, 2.86000000e+02, 5.09140575e-01, 5.00000000e+00],\n",
       "       [2.83000000e+02, 3.02000000e+02, 5.47936090e-01, 4.00000000e+01],\n",
       "       [3.00000000e+00, 3.01000000e+02, 5.66424561e-01, 1.10000000e+01],\n",
       "       [2.92000000e+02, 3.05000000e+02, 5.69076941e-01, 1.30000000e+01],\n",
       "       [8.00000000e+00, 1.00000000e+01, 5.69772565e-01, 2.00000000e+00],\n",
       "       [2.19000000e+02, 2.72000000e+02, 5.75759600e-01, 5.00000000e+00],\n",
       "       [2.88000000e+02, 3.03000000e+02, 5.77808473e-01, 4.00000000e+00],\n",
       "       [2.89000000e+02, 2.96000000e+02, 5.83179970e-01, 7.00000000e+00],\n",
       "       [1.08000000e+02, 3.00000000e+02, 5.86227635e-01, 3.00000000e+00],\n",
       "       [1.23000000e+02, 3.14000000e+02, 5.89992999e-01, 8.00000000e+00],\n",
       "       [1.37000000e+02, 1.50000000e+02, 6.00468179e-01, 2.00000000e+00],\n",
       "       [2.33000000e+02, 3.12000000e+02, 6.04824386e-01, 8.00000000e+00],\n",
       "       [2.81000000e+02, 3.06000000e+02, 6.15864977e-01, 6.00000000e+00],\n",
       "       [1.09000000e+02, 1.76000000e+02, 6.22225886e-01, 2.00000000e+00],\n",
       "       [2.99000000e+02, 3.10000000e+02, 6.27460225e-01, 1.90000000e+01],\n",
       "       [3.04000000e+02, 3.19000000e+02, 6.33038020e-01, 8.00000000e+00],\n",
       "       [1.85000000e+02, 2.93000000e+02, 6.47489515e-01, 8.00000000e+00],\n",
       "       [3.09000000e+02, 3.17000000e+02, 7.05041391e-01, 1.30000000e+01],\n",
       "       [1.02000000e+02, 2.28000000e+02, 7.12636424e-01, 3.00000000e+00],\n",
       "       [1.65000000e+02, 3.18000000e+02, 7.62582466e-01, 9.00000000e+00],\n",
       "       [7.70000000e+01, 3.16000000e+02, 7.82188670e-01, 9.00000000e+00],\n",
       "       [2.87000000e+02, 3.24000000e+02, 8.17994031e-01, 2.10000000e+01],\n",
       "       [2.98000000e+02, 3.07000000e+02, 8.36802279e-01, 3.00000000e+01],\n",
       "       [3.22000000e+02, 3.27000000e+02, 8.40315970e-01, 1.70000000e+01],\n",
       "       [3.08000000e+02, 3.30000000e+02, 7.98107800e-01, 5.70000000e+01],\n",
       "       [3.26000000e+02, 3.31000000e+02, 8.73830754e-01, 6.60000000e+01],\n",
       "       [3.21000000e+02, 3.28000000e+02, 8.91205940e-01, 4.00000000e+01],\n",
       "       [3.15000000e+02, 3.29000000e+02, 9.40178967e-01, 3.30000000e+01],\n",
       "       [3.11000000e+02, 3.25000000e+02, 9.44683389e-01, 5.00000000e+00],\n",
       "       [2.97000000e+02, 3.35000000e+02, 8.35165761e-01, 1.00000000e+01],\n",
       "       [3.32000000e+02, 3.36000000e+02, 9.46130137e-01, 7.60000000e+01],\n",
       "       [1.40000000e+01, 1.73000000e+02, 9.47187406e-01, 2.00000000e+00],\n",
       "       [5.40000000e+01, 1.01000000e+02, 1.00627152e+00, 2.00000000e+00],\n",
       "       [3.13000000e+02, 3.38000000e+02, 1.02627994e+00, 6.00000000e+00],\n",
       "       [3.33000000e+02, 3.40000000e+02, 1.04648836e+00, 4.60000000e+01],\n",
       "       [2.94000000e+02, 3.41000000e+02, 1.12651374e+00, 5.00000000e+01],\n",
       "       [3.23000000e+02, 3.37000000e+02, 1.14449481e+00, 8.40000000e+01],\n",
       "       [3.20000000e+02, 3.34000000e+02, 1.16996264e+00, 3.50000000e+01],\n",
       "       [6.90000000e+01, 3.39000000e+02, 1.29375039e+00, 3.00000000e+00],\n",
       "       [3.42000000e+02, 3.44000000e+02, 1.36610814e+00, 8.50000000e+01],\n",
       "       [1.17000000e+02, 3.45000000e+02, 1.42989896e+00, 4.00000000e+00],\n",
       "       [3.43000000e+02, 3.46000000e+02, 2.05320887e+00, 1.69000000e+02],\n",
       "       [3.47000000e+02, 3.48000000e+02, 1.98485237e+00, 1.73000000e+02],\n",
       "       [2.10000000e+01, 1.75000000e+02, 3.50923706e+00, 2.00000000e+00],\n",
       "       [7.10000000e+01, 3.49000000e+02, 7.76449072e+00, 1.74000000e+02],\n",
       "       [3.20000000e+01, 6.80000000e+01, 7.88369391e+00, 2.00000000e+00],\n",
       "       [3.50000000e+02, 3.51000000e+02, 8.01492079e+00, 1.76000000e+02],\n",
       "       [3.52000000e+02, 3.53000000e+02, 1.30656018e+01, 1.78000000e+02]])"
      ]
     },
     "execution_count": 402,
     "metadata": {},
     "output_type": "execute_result"
    }
   ],
   "source": [
    "from scipy.cluster.hierarchy import centroid, fcluster\n",
    "from scipy.spatial.distance import pdist\n",
    "y = pdist(X_scaled)\n",
    "# centroids\n",
    "centroid(y)"
   ]
  },
  {
   "cell_type": "code",
   "execution_count": 403,
   "id": "7c7d5a21",
   "metadata": {},
   "outputs": [
    {
     "data": {
      "text/plain": [
       "array([11, 36, 21, 47, 25,  6, 18, 44, 16, 21, 16, 23, 43, 18,  8, 21, 23,\n",
       "       42, 40, 30, 42,  1, 28, 13, 12, 21, 14, 43, 47, 13, 37, 20,  3, 17,\n",
       "       18, 20, 20, 37,  5, 41, 19, 29, 31, 10, 23, 47, 21, 43, 24, 22, 46,\n",
       "       20, 22, 25, 32, 41,  6, 10, 23, 29,  5, 14, 11, 31, 31, 47,  5, 21,\n",
       "        4, 34, 38, 15, 19, 17, 18, 26, 20, 27, 43, 19, 10, 44, 40, 40, 46,\n",
       "       29, 30, 44, 10, 29, 18, 31, 14, 37, 14, 18, 14, 23, 47, 31,  6, 33,\n",
       "       18, 22, 13, 35,  5, 46, 12,  7, 19, 19, 19, 11, 41, 14, 44, 39, 40,\n",
       "       40, 44, 24, 38, 26, 23, 22, 36, 28, 25, 13,  6, 42, 26, 31, 20, 12,\n",
       "       47, 45, 14, 23, 21, 23, 19,  5, 28, 20, 11, 21, 21, 10, 45, 23, 20,\n",
       "       23, 14,  5,  6, 22, 35, 11, 11, 20, 46, 44, 38, 26, 20, 42, 31, 38,\n",
       "       11, 14, 47,  9, 40,  2,  7,  5], dtype=int32)"
      ]
     },
     "execution_count": 403,
     "metadata": {},
     "output_type": "execute_result"
    }
   ],
   "source": [
    "fcluster(Z, t=0.9, criterion='distance')"
   ]
  },
  {
   "cell_type": "code",
   "execution_count": 404,
   "id": "8c52073e",
   "metadata": {},
   "outputs": [
    {
     "name": "stdout",
     "output_type": "stream",
     "text": [
      "[[ 0.66736324 -0.08886413 -0.10203039 -0.92566638 -0.19180918]\n",
      " [-0.421286    8.74830718  8.5916894  -0.69004161  3.98643694]\n",
      " [-0.59619263 -0.14806884 -0.13442772  0.74683813 -0.07852767]\n",
      " [-0.45020947  1.82282921  1.84021884  1.21116211  7.28149894]\n",
      " [ 7.59051433 -0.08512627 -0.10241591 -1.46239042 -0.22790824]]\n"
     ]
    }
   ],
   "source": [
    "#kmeans pour recuperer les coordonnées des centroides( pas sur que ce c'est ce qu(il faut faire))\n",
    "## kmeans clustering\n",
    "from sklearn import cluster\n",
    "kmeans = cluster.KMeans(n_clusters=5)\n",
    "kmeans.fit(X_scaled)\n",
    "#les centroïdes des groupes et leurs coordonnées dans chacune des dimensions.\n",
    "print(kmeans.cluster_centers_)"
   ]
  },
  {
   "cell_type": "markdown",
   "id": "c6bafb18",
   "metadata": {},
   "source": [
    "# Position des centroides"
   ]
  },
  {
   "cell_type": "code",
   "execution_count": 405,
   "id": "de0872b3",
   "metadata": {},
   "outputs": [
    {
     "data": {
      "image/png": "[encoded data removed]",
      "text/plain": [
       "<Figure size 648x720 with 1 Axes>"
      ]
     },
     "metadata": {},
     "output_type": "display_data"
    }
   ],
   "source": [
    "# Affichage des positions des centres de classes\n",
    "plt.figure()\n",
    "centroids = kmeans.cluster_centers_\n",
    "centroids_projected = acp.transform(centroids)\n",
    "plt.scatter(centroids_projected[:,0],centroids_projected[:,1], label = 'True position')\n",
    "plt.title(\"Projection des {} centres sur le 1e plan factoriel\".format(len(centroids)))\n",
    "for cluster, x, y in zip(set(clusters.tolist()), centroids_projected[:, 0], centroids_projected[:, 1]):\n",
    "    plt.annotate(\n",
    "       cluster,\n",
    "     xy=(x, y), xytext=(-3, 3),\n",
    "     textcoords='offset points', ha='right', va='bottom')\n",
    "plt.show()"
   ]
  },
  {
   "cell_type": "code",
   "execution_count": 406,
   "id": "43627d2b",
   "metadata": {},
   "outputs": [
    {
     "data": {
      "text/plain": [
       "Index(['diff_pop2019', 'dispo_alim_cal', 'dispo_alim_prot',\n",
       "       'prop_prot_animale', 'prod_volaille'],\n",
       "      dtype='object')"
      ]
     },
     "execution_count": 406,
     "metadata": {},
     "output_type": "execute_result"
    }
   ],
   "source": [
    "data_filter2.columns[1:]"
   ]
  },
  {
   "cell_type": "code",
   "execution_count": 407,
   "id": "f38774f7",
   "metadata": {},
   "outputs": [],
   "source": [
    "# on met les données à la même échelle pour pouvoir comparer\n",
    "dt_scaled = pd.DataFrame(X_scaled, columns= list(data_filter.columns[1:]), index=dt.index)"
   ]
  },
  {
   "cell_type": "code",
   "execution_count": 408,
   "id": "e8e555e7",
   "metadata": {},
   "outputs": [
    {
     "data": {
      "text/html": [
       "<div>\n",
       "<style scoped>\n",
       "    .dataframe tbody tr th:only-of-type {\n",
       "        vertical-align: middle;\n",
       "    }\n",
       "\n",
       "    .dataframe tbody tr th {\n",
       "        vertical-align: top;\n",
       "    }\n",
       "\n",
       "    .dataframe thead th {\n",
       "        text-align: right;\n",
       "    }\n",
       "</style>\n",
       "<table border=\"1\" class=\"dataframe\">\n",
       "  <thead>\n",
       "    <tr style=\"text-align: right;\">\n",
       "      <th></th>\n",
       "      <th>diff_pop2019</th>\n",
       "      <th>dispo_alim_cal</th>\n",
       "      <th>dispo_alim_prot</th>\n",
       "      <th>prop_prot_animale</th>\n",
       "      <th>prod_volaille</th>\n",
       "    </tr>\n",
       "  </thead>\n",
       "  <tbody>\n",
       "    <tr>\n",
       "      <th>0</th>\n",
       "      <td>0.872557</td>\n",
       "      <td>-0.088573</td>\n",
       "      <td>-0.102763</td>\n",
       "      <td>-1.538008</td>\n",
       "      <td>-0.284779</td>\n",
       "    </tr>\n",
       "    <tr>\n",
       "      <th>1</th>\n",
       "      <td>0.031848</td>\n",
       "      <td>0.089119</td>\n",
       "      <td>0.078897</td>\n",
       "      <td>0.077928</td>\n",
       "      <td>0.531194</td>\n",
       "    </tr>\n",
       "    <tr>\n",
       "      <th>2</th>\n",
       "      <td>-1.051818</td>\n",
       "      <td>-0.253169</td>\n",
       "      <td>-0.237421</td>\n",
       "      <td>0.687347</td>\n",
       "      <td>-0.291723</td>\n",
       "    </tr>\n",
       "    <tr>\n",
       "      <th>3</th>\n",
       "      <td>0.456059</td>\n",
       "      <td>0.048315</td>\n",
       "      <td>0.023528</td>\n",
       "      <td>-1.011187</td>\n",
       "      <td>-0.182044</td>\n",
       "    </tr>\n",
       "    <tr>\n",
       "      <th>4</th>\n",
       "      <td>-0.766439</td>\n",
       "      <td>0.363193</td>\n",
       "      <td>0.373307</td>\n",
       "      <td>1.080890</td>\n",
       "      <td>0.174242</td>\n",
       "    </tr>\n",
       "  </tbody>\n",
       "</table>\n",
       "</div>"
      ],
      "text/plain": [
       "   diff_pop2019  dispo_alim_cal  dispo_alim_prot  prop_prot_animale  \\\n",
       "0      0.872557       -0.088573        -0.102763          -1.538008   \n",
       "1      0.031848        0.089119         0.078897           0.077928   \n",
       "2     -1.051818       -0.253169        -0.237421           0.687347   \n",
       "3      0.456059        0.048315         0.023528          -1.011187   \n",
       "4     -0.766439        0.363193         0.373307           1.080890   \n",
       "\n",
       "   prod_volaille  \n",
       "0      -0.284779  \n",
       "1       0.531194  \n",
       "2      -0.291723  \n",
       "3      -0.182044  \n",
       "4       0.174242  "
      ]
     },
     "execution_count": 408,
     "metadata": {},
     "output_type": "execute_result"
    }
   ],
   "source": [
    "dt_scaled.head()"
   ]
  },
  {
   "cell_type": "code",
   "execution_count": 409,
   "id": "ce17976f",
   "metadata": {},
   "outputs": [],
   "source": [
    "data_cluster = pd.merge(dt_scaled,dt[['Zone']], left_index= True, right_index = True, how='left')"
   ]
  },
  {
   "cell_type": "code",
   "execution_count": 410,
   "id": "cc2cffcf",
   "metadata": {},
   "outputs": [
    {
     "data": {
      "text/html": [
       "<div>\n",
       "<style scoped>\n",
       "    .dataframe tbody tr th:only-of-type {\n",
       "        vertical-align: middle;\n",
       "    }\n",
       "\n",
       "    .dataframe tbody tr th {\n",
       "        vertical-align: top;\n",
       "    }\n",
       "\n",
       "    .dataframe thead th {\n",
       "        text-align: right;\n",
       "    }\n",
       "</style>\n",
       "<table border=\"1\" class=\"dataframe\">\n",
       "  <thead>\n",
       "    <tr style=\"text-align: right;\">\n",
       "      <th></th>\n",
       "      <th>cluster</th>\n",
       "      <th>pays</th>\n",
       "    </tr>\n",
       "  </thead>\n",
       "  <tbody>\n",
       "    <tr>\n",
       "      <th>0</th>\n",
       "      <td>3</td>\n",
       "      <td>Afghanistan</td>\n",
       "    </tr>\n",
       "    <tr>\n",
       "      <th>1</th>\n",
       "      <td>5</td>\n",
       "      <td>Afrique du Sud</td>\n",
       "    </tr>\n",
       "    <tr>\n",
       "      <th>2</th>\n",
       "      <td>4</td>\n",
       "      <td>Albanie</td>\n",
       "    </tr>\n",
       "    <tr>\n",
       "      <th>3</th>\n",
       "      <td>5</td>\n",
       "      <td>Algérie</td>\n",
       "    </tr>\n",
       "    <tr>\n",
       "      <th>4</th>\n",
       "      <td>4</td>\n",
       "      <td>Allemagne</td>\n",
       "    </tr>\n",
       "  </tbody>\n",
       "</table>\n",
       "</div>"
      ],
      "text/plain": [
       "   cluster            pays\n",
       "0        3     Afghanistan\n",
       "1        5  Afrique du Sud\n",
       "2        4         Albanie\n",
       "3        5         Algérie\n",
       "4        4       Allemagne"
      ]
     },
     "execution_count": 410,
     "metadata": {},
     "output_type": "execute_result"
    }
   ],
   "source": [
    "groupes.head()"
   ]
  },
  {
   "cell_type": "code",
   "execution_count": 411,
   "id": "d5a1d876",
   "metadata": {},
   "outputs": [
    {
     "data": {
      "text/html": [
       "<div>\n",
       "<style scoped>\n",
       "    .dataframe tbody tr th:only-of-type {\n",
       "        vertical-align: middle;\n",
       "    }\n",
       "\n",
       "    .dataframe tbody tr th {\n",
       "        vertical-align: top;\n",
       "    }\n",
       "\n",
       "    .dataframe thead th {\n",
       "        text-align: right;\n",
       "    }\n",
       "</style>\n",
       "<table border=\"1\" class=\"dataframe\">\n",
       "  <thead>\n",
       "    <tr style=\"text-align: right;\">\n",
       "      <th></th>\n",
       "      <th>diff_pop2019</th>\n",
       "      <th>dispo_alim_cal</th>\n",
       "      <th>dispo_alim_prot</th>\n",
       "      <th>prop_prot_animale</th>\n",
       "      <th>prod_volaille</th>\n",
       "      <th>Zone</th>\n",
       "    </tr>\n",
       "  </thead>\n",
       "  <tbody>\n",
       "    <tr>\n",
       "      <th>0</th>\n",
       "      <td>0.872557</td>\n",
       "      <td>-0.088573</td>\n",
       "      <td>-0.102763</td>\n",
       "      <td>-1.538008</td>\n",
       "      <td>-0.284779</td>\n",
       "      <td>Afghanistan</td>\n",
       "    </tr>\n",
       "    <tr>\n",
       "      <th>1</th>\n",
       "      <td>0.031848</td>\n",
       "      <td>0.089119</td>\n",
       "      <td>0.078897</td>\n",
       "      <td>0.077928</td>\n",
       "      <td>0.531194</td>\n",
       "      <td>Afrique du Sud</td>\n",
       "    </tr>\n",
       "    <tr>\n",
       "      <th>2</th>\n",
       "      <td>-1.051818</td>\n",
       "      <td>-0.253169</td>\n",
       "      <td>-0.237421</td>\n",
       "      <td>0.687347</td>\n",
       "      <td>-0.291723</td>\n",
       "      <td>Albanie</td>\n",
       "    </tr>\n",
       "    <tr>\n",
       "      <th>3</th>\n",
       "      <td>0.456059</td>\n",
       "      <td>0.048315</td>\n",
       "      <td>0.023528</td>\n",
       "      <td>-1.011187</td>\n",
       "      <td>-0.182044</td>\n",
       "      <td>Algérie</td>\n",
       "    </tr>\n",
       "    <tr>\n",
       "      <th>4</th>\n",
       "      <td>-0.766439</td>\n",
       "      <td>0.363193</td>\n",
       "      <td>0.373307</td>\n",
       "      <td>1.080890</td>\n",
       "      <td>0.174242</td>\n",
       "      <td>Allemagne</td>\n",
       "    </tr>\n",
       "  </tbody>\n",
       "</table>\n",
       "</div>"
      ],
      "text/plain": [
       "   diff_pop2019  dispo_alim_cal  dispo_alim_prot  prop_prot_animale  \\\n",
       "0      0.872557       -0.088573        -0.102763          -1.538008   \n",
       "1      0.031848        0.089119         0.078897           0.077928   \n",
       "2     -1.051818       -0.253169        -0.237421           0.687347   \n",
       "3      0.456059        0.048315         0.023528          -1.011187   \n",
       "4     -0.766439        0.363193         0.373307           1.080890   \n",
       "\n",
       "   prod_volaille            Zone  \n",
       "0      -0.284779     Afghanistan  \n",
       "1       0.531194  Afrique du Sud  \n",
       "2      -0.291723         Albanie  \n",
       "3      -0.182044         Algérie  \n",
       "4       0.174242       Allemagne  "
      ]
     },
     "execution_count": 411,
     "metadata": {},
     "output_type": "execute_result"
    }
   ],
   "source": [
    "data_cluster.head()"
   ]
  },
  {
   "cell_type": "code",
   "execution_count": 412,
   "id": "5d283fc6",
   "metadata": {},
   "outputs": [],
   "source": [
    "#on ajoute les groupes entre eux \n",
    "data_clusters = pd.merge(data_cluster,groupes, left_on = 'Zone',right_on = 'pays', how = 'left' )"
   ]
  },
  {
   "cell_type": "code",
   "execution_count": 413,
   "id": "4453f9e9",
   "metadata": {},
   "outputs": [
    {
     "data": {
      "text/html": [
       "<div>\n",
       "<style scoped>\n",
       "    .dataframe tbody tr th:only-of-type {\n",
       "        vertical-align: middle;\n",
       "    }\n",
       "\n",
       "    .dataframe tbody tr th {\n",
       "        vertical-align: top;\n",
       "    }\n",
       "\n",
       "    .dataframe thead th {\n",
       "        text-align: right;\n",
       "    }\n",
       "</style>\n",
       "<table border=\"1\" class=\"dataframe\">\n",
       "  <thead>\n",
       "    <tr style=\"text-align: right;\">\n",
       "      <th></th>\n",
       "      <th>diff_pop2019</th>\n",
       "      <th>dispo_alim_cal</th>\n",
       "      <th>dispo_alim_prot</th>\n",
       "      <th>prop_prot_animale</th>\n",
       "      <th>prod_volaille</th>\n",
       "      <th>Zone</th>\n",
       "      <th>cluster</th>\n",
       "      <th>pays</th>\n",
       "    </tr>\n",
       "  </thead>\n",
       "  <tbody>\n",
       "    <tr>\n",
       "      <th>0</th>\n",
       "      <td>0.872557</td>\n",
       "      <td>-0.088573</td>\n",
       "      <td>-0.102763</td>\n",
       "      <td>-1.538008</td>\n",
       "      <td>-0.284779</td>\n",
       "      <td>Afghanistan</td>\n",
       "      <td>3</td>\n",
       "      <td>Afghanistan</td>\n",
       "    </tr>\n",
       "    <tr>\n",
       "      <th>1</th>\n",
       "      <td>0.031848</td>\n",
       "      <td>0.089119</td>\n",
       "      <td>0.078897</td>\n",
       "      <td>0.077928</td>\n",
       "      <td>0.531194</td>\n",
       "      <td>Afrique du Sud</td>\n",
       "      <td>5</td>\n",
       "      <td>Afrique du Sud</td>\n",
       "    </tr>\n",
       "    <tr>\n",
       "      <th>2</th>\n",
       "      <td>-1.051818</td>\n",
       "      <td>-0.253169</td>\n",
       "      <td>-0.237421</td>\n",
       "      <td>0.687347</td>\n",
       "      <td>-0.291723</td>\n",
       "      <td>Albanie</td>\n",
       "      <td>4</td>\n",
       "      <td>Albanie</td>\n",
       "    </tr>\n",
       "    <tr>\n",
       "      <th>3</th>\n",
       "      <td>0.456059</td>\n",
       "      <td>0.048315</td>\n",
       "      <td>0.023528</td>\n",
       "      <td>-1.011187</td>\n",
       "      <td>-0.182044</td>\n",
       "      <td>Algérie</td>\n",
       "      <td>5</td>\n",
       "      <td>Algérie</td>\n",
       "    </tr>\n",
       "    <tr>\n",
       "      <th>4</th>\n",
       "      <td>-0.766439</td>\n",
       "      <td>0.363193</td>\n",
       "      <td>0.373307</td>\n",
       "      <td>1.080890</td>\n",
       "      <td>0.174242</td>\n",
       "      <td>Allemagne</td>\n",
       "      <td>4</td>\n",
       "      <td>Allemagne</td>\n",
       "    </tr>\n",
       "  </tbody>\n",
       "</table>\n",
       "</div>"
      ],
      "text/plain": [
       "   diff_pop2019  dispo_alim_cal  dispo_alim_prot  prop_prot_animale  \\\n",
       "0      0.872557       -0.088573        -0.102763          -1.538008   \n",
       "1      0.031848        0.089119         0.078897           0.077928   \n",
       "2     -1.051818       -0.253169        -0.237421           0.687347   \n",
       "3      0.456059        0.048315         0.023528          -1.011187   \n",
       "4     -0.766439        0.363193         0.373307           1.080890   \n",
       "\n",
       "   prod_volaille            Zone  cluster            pays  \n",
       "0      -0.284779     Afghanistan        3     Afghanistan  \n",
       "1       0.531194  Afrique du Sud        5  Afrique du Sud  \n",
       "2      -0.291723         Albanie        4         Albanie  \n",
       "3      -0.182044         Algérie        5         Algérie  \n",
       "4       0.174242       Allemagne        4       Allemagne  "
      ]
     },
     "execution_count": 413,
     "metadata": {},
     "output_type": "execute_result"
    }
   ],
   "source": [
    "data_clusters.head()"
   ]
  },
  {
   "cell_type": "code",
   "execution_count": 414,
   "id": "4d2f00a4",
   "metadata": {},
   "outputs": [],
   "source": [
    "# Je recupère juste les moyenne pour faire un heatmap\n",
    "data_clusters_mean = data_clusters.groupby('cluster').agg('mean')"
   ]
  },
  {
   "cell_type": "code",
   "execution_count": 415,
   "id": "a0cc8b4b",
   "metadata": {},
   "outputs": [
    {
     "data": {
      "image/png": "[encoded data removed]",
      "text/plain": [
       "<Figure size 648x720 with 2 Axes>"
      ]
     },
     "metadata": {},
     "output_type": "display_data"
    }
   ],
   "source": [
    "#On fait un heatmap pour voir les centroides\n",
    "import seaborn as sns\n",
    "plt.figure()\n",
    "plt.title('Clusters en fonction des Centroides des variables')\n",
    "sns.set(rc={'figure.figsize':(9,10)})\n",
    "sns.heatmap(data_clusters_mean,cmap = 'viridis',cbar = True,square = True )\n",
    "plt.title('Clusters en fonction des Centroides des variables')\n",
    "plt.show()\n"
   ]
  },
  {
   "cell_type": "code",
   "execution_count": 416,
   "id": "a2f74606",
   "metadata": {},
   "outputs": [
    {
     "data": {
      "text/plain": [
       "21                    Brésil\n",
       "175    États-Unis d'Amérique\n",
       "Name: pays, dtype: object"
      ]
     },
     "execution_count": 416,
     "metadata": {},
     "output_type": "execute_result"
    }
   ],
   "source": [
    "groupe1 = data_clusters.loc[data_clusters['cluster']==1]\n",
    "groupe1['pays']"
   ]
  },
  {
   "cell_type": "code",
   "execution_count": 417,
   "id": "226c05cc",
   "metadata": {},
   "outputs": [
    {
     "data": {
      "text/plain": [
       "32    Chine\n",
       "68     Inde\n",
       "Name: pays, dtype: object"
      ]
     },
     "execution_count": 417,
     "metadata": {},
     "output_type": "execute_result"
    }
   ],
   "source": [
    "groupe2 = data_clusters.loc[data_clusters['cluster']==2]\n",
    "groupe2['pays']"
   ]
  },
  {
   "cell_type": "code",
   "execution_count": 418,
   "id": "55484f4c",
   "metadata": {},
   "outputs": [
    {
     "data": {
      "text/plain": [
       "0                           Afghanistan\n",
       "5                                Angola\n",
       "14                           Bangladesh\n",
       "23                         Burkina Faso\n",
       "24                              Burundi\n",
       "26                                Bénin\n",
       "29                             Cameroun\n",
       "38                              Comores\n",
       "43                        Côte d'Ivoire\n",
       "56                               Gambie\n",
       "57                                Ghana\n",
       "60                            Guatemala\n",
       "61                               Guinée\n",
       "62                        Guinée-Bissau\n",
       "66                             Honduras\n",
       "71                                 Iraq\n",
       "80                                Kenya\n",
       "88                              Libéria\n",
       "92                           Madagascar\n",
       "94                               Malawi\n",
       "96                                 Mali\n",
       "100                          Mauritanie\n",
       "104                          Mozambique\n",
       "106                             Namibie\n",
       "108                               Niger\n",
       "109                             Nigéria\n",
       "113                               Népal\n",
       "115                             Ouganda\n",
       "129                              Rwanda\n",
       "130           République arabe syrienne\n",
       "135    République démocratique du Congo\n",
       "138         République-Unie de Tanzanie\n",
       "143                Sao Tomé-et-Principe\n",
       "146                        Sierra Leone\n",
       "149                              Soudan\n",
       "154                             Sénégal\n",
       "155                         Tadjikistan\n",
       "156                               Tchad\n",
       "159                         Timor-Leste\n",
       "160                                Togo\n",
       "170                               Yémen\n",
       "171                              Zambie\n",
       "173                              Égypte\n",
       "176                            Éthiopie\n",
       "177                        Îles Salomon\n",
       "Name: pays, dtype: object"
      ]
     },
     "execution_count": 418,
     "metadata": {},
     "output_type": "execute_result"
    }
   ],
   "source": [
    "groupe3 = data_clusters.loc[data_clusters['cluster']==3]\n",
    "groupe3['pays']"
   ]
  },
  {
   "cell_type": "code",
   "execution_count": 419,
   "id": "61828a0c",
   "metadata": {},
   "outputs": [
    {
     "data": {
      "text/plain": [
       "2                                     Albanie\n",
       "4                                   Allemagne\n",
       "6                          Antigua-et-Barbuda\n",
       "8                                   Argentine\n",
       "9                                     Arménie\n",
       "                        ...                  \n",
       "157                                  Tchéquie\n",
       "161                         Trinité-et-Tobago\n",
       "165                                   Ukraine\n",
       "166                                   Uruguay\n",
       "168    Venezuela (République bolivarienne du)\n",
       "Name: pays, Length: 78, dtype: object"
      ]
     },
     "execution_count": 419,
     "metadata": {},
     "output_type": "execute_result"
    }
   ],
   "source": [
    "groupe4 = data_clusters.loc[data_clusters['cluster']==4]\n",
    "groupe4['pays']"
   ]
  },
  {
   "cell_type": "code",
   "execution_count": 420,
   "id": "6ffcd3a4",
   "metadata": {},
   "outputs": [
    {
     "data": {
      "text/plain": [
       "1                                  Afrique du Sud\n",
       "3                                         Algérie\n",
       "7                                 Arabie saoudite\n",
       "12                                    Azerbaïdjan\n",
       "17                                         Belize\n",
       "18                Bolivie (État plurinational de)\n",
       "20                                       Botswana\n",
       "27                                     Cabo Verde\n",
       "28                                       Cambodge\n",
       "30                                         Canada\n",
       "37                                       Colombie\n",
       "39                                          Congo\n",
       "45                                       Djibouti\n",
       "47                                    El Salvador\n",
       "50                                       Eswatini\n",
       "54                           Fédération de Russie\n",
       "55                                          Gabon\n",
       "65                                          Haïti\n",
       "69                                      Indonésie\n",
       "70                 Iran (République islamique d')\n",
       "78                                       Jordanie\n",
       "81                                   Kirghizistan\n",
       "82                                       Kiribati\n",
       "83                                         Koweït\n",
       "84                                        Lesotho\n",
       "87                                          Libye\n",
       "93                                       Malaisie\n",
       "98                                          Maroc\n",
       "101                                       Mexique\n",
       "105                                       Myanmar\n",
       "107                                     Nicaragua\n",
       "114                                          Oman\n",
       "116                                   Ouzbékistan\n",
       "117                                      Pakistan\n",
       "118                                        Panama\n",
       "119                     Papouasie-Nouvelle-Guinée\n",
       "120                                      Paraguay\n",
       "122                                   Philippines\n",
       "126                                         Pérou\n",
       "131                     République centrafricaine\n",
       "136         République démocratique populaire lao\n",
       "137    République populaire démocratique de Corée\n",
       "150                                     Sri Lanka\n",
       "158                                     Thaïlande\n",
       "162                                       Tunisie\n",
       "163                                  Turkménistan\n",
       "164                                       Turquie\n",
       "167                                       Vanuatu\n",
       "169                                      Viet Nam\n",
       "172                                      Zimbabwe\n",
       "174                                      Équateur\n",
       "Name: pays, dtype: object"
      ]
     },
     "execution_count": 420,
     "metadata": {},
     "output_type": "execute_result"
    }
   ],
   "source": [
    "groupe5 = data_clusters.loc[data_clusters['cluster']==5]\n",
    "groupe5['pays']"
   ]
  },
  {
   "cell_type": "markdown",
   "id": "a6810a47",
   "metadata": {},
   "source": [
    "# Test d'adéquation : Kolgomorov-Smirnov"
   ]
  },
  {
   "cell_type": "code",
   "execution_count": 421,
   "id": "1391e636",
   "metadata": {},
   "outputs": [
    {
     "data": {
      "text/plain": [
       "KstestResult(statistic=0.11278651685393258, pvalue=0.039152924000616984)"
      ]
     },
     "execution_count": 421,
     "metadata": {},
     "output_type": "execute_result"
    }
   ],
   "source": [
    "#Test de la variable proportion protéine animale\n",
    "#on calcule d'abord la moyenne et l'écart type de la variable et on les passe dans la fonction \n",
    "import random\n",
    "from scipy.stats import ks_2samp\n",
    "import numpy\n",
    "#on met un random seed pour avoir les mêmes résultats.\n",
    "np.random.seed(1234)\n",
    "ks_2samp(dt[\"prop_prot_animale\"],list(numpy.random.normal(numpy.mean(dt['prop_prot_animale']), numpy.std(dt['prop_prot_animale']),1000)))\n"
   ]
  },
  {
   "cell_type": "code",
   "execution_count": 422,
   "id": "369416be",
   "metadata": {},
   "outputs": [],
   "source": [
    "# Hypothèse H0 : La variable prop_prot_animale suit une loi normale\n",
    "# Hypothèse H1 : La variable prop_prot animale ne suit pas une loi normale"
   ]
  },
  {
   "cell_type": "code",
   "execution_count": 423,
   "id": "4064b4da",
   "metadata": {},
   "outputs": [],
   "source": [
    "# Avec une pvalue de 0,03 < 0,05, on peut rejeter l'hypothèse H0 nulle selon laquelle la variable prop_prot_animale suivrait une loi normale"
   ]
  },
  {
   "cell_type": "code",
   "execution_count": 424,
   "id": "51be5d77",
   "metadata": {},
   "outputs": [
    {
     "data": {
      "text/plain": [
       "KstestResult(statistic=0.384, pvalue=3.3306690738754696e-16)"
      ]
     },
     "execution_count": 424,
     "metadata": {},
     "output_type": "execute_result"
    }
   ],
   "source": [
    "#Test de la variable disponibilité alimentaire en protéines\n",
    "#on calcule d'abord la moyenne et l'écart type de la variable et on les passe dans la fonction \n",
    "import random\n",
    "from scipy.stats import ks_2samp\n",
    "import numpy\n",
    "#on met un random seed pour avoir les mêmes résultats.\n",
    "np.random.seed(1234)\n",
    "ks_2samp(dt[\"dispo_alim_prot\"],list(numpy.random.normal(numpy.mean(dt['dispo_alim_prot']), numpy.std(dt['dispo_alim_prot']),1000)))"
   ]
  },
  {
   "cell_type": "code",
   "execution_count": 425,
   "id": "c382c307",
   "metadata": {},
   "outputs": [],
   "source": [
    "# Hypothèse H0 : La variable disponibilité alimentaire en protéines suit une loi normale\n",
    "# Hypothèse H1 : La variable disponibilité alimentaire en protéines ne suit pas une loi normale"
   ]
  },
  {
   "cell_type": "code",
   "execution_count": 426,
   "id": "b08306cb",
   "metadata": {},
   "outputs": [],
   "source": [
    "# Avec une pvalue de 3.3306690738754696e-16 < 0,05, on peut rejeter l'hypothèse H0 nulle selon laquelle la variable variable disponibilité alimentaires suivrait une loi normale"
   ]
  },
  {
   "cell_type": "code",
   "execution_count": 427,
   "id": "ce1b432f",
   "metadata": {},
   "outputs": [
    {
     "data": {
      "text/plain": [
       "KstestResult(statistic=0.381, pvalue=3.3306690738754696e-16)"
      ]
     },
     "execution_count": 427,
     "metadata": {},
     "output_type": "execute_result"
    }
   ],
   "source": [
    "#Test de la variable disponibilité alimentaires en protéines\n",
    "#on calcule d'abord la moyenne et l'écart type de la variable et on les passe dans la fonction \n",
    "import random\n",
    "from scipy.stats import ks_2samp\n",
    "import numpy\n",
    "#on met un random seed pour avoir les mêmes résultats.\n",
    "np.random.seed(1234)\n",
    "ks_2samp(dt[\"dispo_alim_cal\"],list(numpy.random.normal(numpy.mean(dt['dispo_alim_cal']), numpy.std(dt['dispo_alim_cal']),1000)))"
   ]
  },
  {
   "cell_type": "code",
   "execution_count": 428,
   "id": "b48bed2b",
   "metadata": {},
   "outputs": [],
   "source": [
    "# Hypothèse H0 : La variable disponibilité alimentaire en calories suit une loi normale\n",
    "# Hypothèse H1 : La variable disponibilité alimentaire en calories ne suit pas une loi normale"
   ]
  },
  {
   "cell_type": "code",
   "execution_count": 429,
   "id": "4941c8ab",
   "metadata": {},
   "outputs": [],
   "source": [
    "# Avec une pvalue de 3.3306690738754696e-16 < 0,05, on peut rejeter l'hypothèse H0 nulle selon laquelle la variable variable disponibilité alimentaire en calories suivrait une loi normale"
   ]
  },
  {
   "cell_type": "code",
   "execution_count": 430,
   "id": "c5050d31",
   "metadata": {},
   "outputs": [
    {
     "data": {
      "text/plain": [
       "KstestResult(statistic=0.08530337078651686, pvalue=0.20776203914987712)"
      ]
     },
     "execution_count": 430,
     "metadata": {},
     "output_type": "execute_result"
    }
   ],
   "source": [
    "#Test de la variable différence de population en 2019 en protéines\n",
    "#on calcule d'abord la moyenne et l'écart type de la variable et on les passe dans la fonction \n",
    "import random\n",
    "from scipy.stats import ks_2samp\n",
    "import numpy\n",
    "#on met un random seed pour avoir les mêmes résultats.\n",
    "np.random.seed(1234)\n",
    "ks_2samp(dt[\"diff_pop2019\"],list(numpy.random.normal(numpy.mean(dt['diff_pop2019']), numpy.std(dt['diff_pop2019']),1000)))"
   ]
  },
  {
   "cell_type": "code",
   "execution_count": 431,
   "id": "c4171519",
   "metadata": {},
   "outputs": [],
   "source": [
    "# Hypothèse H0 : La variable différence de population en 2019 suit une loi normale\n",
    "# Hypothèse H1 : La variable différence de population en 2019 ne suit pas une loi normale"
   ]
  },
  {
   "cell_type": "code",
   "execution_count": 432,
   "id": "5da6225c",
   "metadata": {},
   "outputs": [],
   "source": [
    "# Avec une pvalue de 0.20776203914987712 > 0,05, on peut accepter l'hypothèse H0 nulle selon laquelle la variable différence de population en 2019 suivrait une loi normale"
   ]
  },
  {
   "cell_type": "code",
   "execution_count": 433,
   "id": "6cb4bfb8",
   "metadata": {},
   "outputs": [],
   "source": [
    "# La variable \"diff_pop2019\" suit une loi normale"
   ]
  },
  {
   "cell_type": "code",
   "execution_count": null,
   "id": "737414be",
   "metadata": {},
   "outputs": [],
   "source": [
    "#Test de la variable production volaille (2020) \n",
    "#on calcule d'abord la moyenne et l'écart type de la variable et on les passe dans la fonction \n",
    "import random\n",
    "from scipy.stats import ks_2samp\n",
    "import numpy\n",
    "#on met un random seed pour avoir les mêmes résultats.\n",
    "np.random.seed(1234)\n",
    "ks_2samp(dt[\"prod_volaille\"],list(numpy.random.normal(numpy.mean(dt['prod_volaille']), numpy.std(dt['prod_volaille']),1000)))"
   ]
  },
  {
   "cell_type": "code",
   "execution_count": null,
   "id": "4a31ebb3",
   "metadata": {},
   "outputs": [],
   "source": [
    "# Hypothèse H0 : La variable production volaille (2020) suit une loi normale\n",
    "# Hypothèse H1 : La variable production volaille (2020) ne suit pas une loi normale"
   ]
  },
  {
   "cell_type": "code",
   "execution_count": null,
   "id": "30730b61",
   "metadata": {},
   "outputs": [],
   "source": [
    "# Avec une pvalue de 0.20776203914987712 > 0,05, on peut accepter l'hypothèse H0 nulle selon laquelle la variable différence de population en 2019 suivrait une loi normale"
   ]
  },
  {
   "cell_type": "markdown",
   "id": "f197e44e",
   "metadata": {},
   "source": [
    "# Test de comparaison des clusters"
   ]
  },
  {
   "cell_type": "code",
   "execution_count": 434,
   "id": "fb5f8b38",
   "metadata": {},
   "outputs": [],
   "source": [
    "cluster1=groupe1['diff_pop2019']\n",
    "cluster2=groupe2['diff_pop2019']"
   ]
  },
  {
   "cell_type": "code",
   "execution_count": 435,
   "id": "9beddbf3",
   "metadata": {},
   "outputs": [
    {
     "data": {
      "text/plain": [
       "BartlettResult(statistic=1.4328400397032037, pvalue=0.23130150119148746)"
      ]
     },
     "execution_count": 435,
     "metadata": {},
     "output_type": "execute_result"
    }
   ],
   "source": [
    "#Test d'égalité des variances \n",
    "from scipy.stats import bartlett\n",
    "bartlett(cluster1,cluster2)"
   ]
  },
  {
   "cell_type": "code",
   "execution_count": 436,
   "id": "30a53058",
   "metadata": {},
   "outputs": [
    {
     "data": {
      "text/plain": [
       "Ttest_indResult(statistic=-0.11818353288647025, pvalue=0.9167219100390374)"
      ]
     },
     "execution_count": 436,
     "metadata": {},
     "output_type": "execute_result"
    }
   ],
   "source": [
    "#On teste ensuite l’égalité des moyennes \n",
    "from scipy.stats import ttest_ind\n",
    "ttest_ind(cluster1,cluster2)"
   ]
  },
  {
   "cell_type": "code",
   "execution_count": null,
   "id": "ead4d1c6",
   "metadata": {},
   "outputs": [],
   "source": []
  }
 ],
 "metadata": {
  "kernelspec": {
   "display_name": "Python 3",
   "language": "python",
   "name": "python3"
  },
  "language_info": {
   "codemirror_mode": {
    "name": "ipython",
    "version": 3
   },
   "file_extension": ".py",
   "mimetype": "text/x-python",
   "name": "python",
   "nbconvert_exporter": "python",
   "pygments_lexer": "ipython3",
   "version": "3.8.8"
  }
 },
 "nbformat": 4,
 "nbformat_minor": 5
}
